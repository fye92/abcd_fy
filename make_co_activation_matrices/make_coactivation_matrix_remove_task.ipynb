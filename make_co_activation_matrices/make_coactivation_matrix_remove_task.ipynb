{
 "cells": [
  {
   "cell_type": "code",
   "execution_count": null,
   "metadata": {},
   "outputs": [],
   "source": [
    "import pandas as pd"
   ]
  },
  {
   "cell_type": "code",
   "execution_count": null,
   "metadata": {},
   "outputs": [],
   "source": [
    "base_dir = '/path/to/data'"
   ]
  },
  {
   "cell_type": "markdown",
   "metadata": {},
   "source": [
    "# Read Data\n",
    "## Read inclusion list"
   ]
  },
  {
   "cell_type": "code",
   "execution_count": null,
   "metadata": {},
   "outputs": [],
   "source": [
    "with open('{}/outputs/lst_subjkey_include_bsl.txt'.format(base_dir),'r') as f:\n",
    "    lst_subjkey_bsl = f.read().splitlines()\n",
    "\n",
    "with open('{}/outputs/lst_subjkey_include_y2.txt'.format(base_dir),'r') as f:\n",
    "    lst_subjkey_y2 = f.read().splitlines()"
   ]
  },
  {
   "cell_type": "code",
   "execution_count": null,
   "metadata": {},
   "outputs": [],
   "source": [
    "print(\"Baseline #subj recommended to include: {}\".format(len(lst_subjkey_bsl)))\n",
    "print(\"Year2 #subj recommended to include: {}\".format(len(lst_subjkey_y2)))"
   ]
  },
  {
   "cell_type": "markdown",
   "metadata": {},
   "source": [
    "# Make matrix, but remove SST\n",
    "This assumes that you have already run make_coactivation_matrix"
   ]
  },
  {
   "cell_type": "markdown",
   "metadata": {},
   "source": [
    "## Determine column and index labels"
   ]
  },
  {
   "cell_type": "code",
   "execution_count": null,
   "metadata": {},
   "outputs": [],
   "source": [
    "lst_contrasts = ['nBack 2 back versus 0 back contrast','nBack face versus place contrast','nBack negative face versus neutral face contrast','nBack positive face versus neutral face contrast',\n",
    "                'MID all anticipation of loss versus neutral contrast','MID all anticipation of reward versus neutral contrast','MID all loss positive versus negative feedback contrast','MID all reward positive versus negative feedback contrast']"
   ]
  },
  {
   "cell_type": "code",
   "execution_count": null,
   "metadata": {},
   "outputs": [],
   "source": [
    "lst_contrasts"
   ]
  },
  {
   "cell_type": "code",
   "execution_count": null,
   "metadata": {},
   "outputs": [],
   "source": [
    "with open('{}/outputs/lst_rois_APARC_ASEG_86ROIs.txt'.format(base_dir),'r') as f:\n",
    "    lst_rois=f.read().splitlines()"
   ]
  },
  {
   "cell_type": "code",
   "execution_count": null,
   "metadata": {},
   "outputs": [],
   "source": [
    "len(lst_rois)"
   ]
  },
  {
   "cell_type": "code",
   "execution_count": null,
   "metadata": {},
   "outputs": [],
   "source": [
    "lst_rois[:5]"
   ]
  },
  {
   "cell_type": "markdown",
   "metadata": {},
   "source": [
    "## Make matrix\n",
    "### Baseline"
   ]
  },
  {
   "cell_type": "code",
   "execution_count": null,
   "metadata": {},
   "outputs": [],
   "source": [
    "outfolder='coactivation_matrices_bsl_86ROIs_rm_SST'"
   ]
  },
  {
   "cell_type": "code",
   "execution_count": null,
   "metadata": {},
   "outputs": [],
   "source": [
    "i=0\n",
    "lst_usable = []\n",
    "for subj in lst_subjkey_bsl:\n",
    "    i=i+1\n",
    "    df_tmp=pd.read_csv('{}/outputs/coactivation_matrices_bsl_86ROIs/{}_86ROI_12contrasts_data_matrix_bsl.csv'.format(base_dir,subj), index_col=0)\n",
    "    df_tmp = df_tmp[lst_contrasts]\n",
    "    \n",
    "    df_tmp.to_csv('{}/outputs/{}/{}_86ROI_8contrasts_rm_SST_data_matrix_bsl.csv'.format(base_dir,outfolder,subj))\n",
    "    if df_tmp.isnull().values.any():\n",
    "        print(\"{} has NaN in its data matrix\".format(subj))\n",
    "        continue\n",
    "    else:\n",
    "        df_corr = df_tmp.T.corr()\n",
    "        if df_corr.isnull().values.any():\n",
    "            print(\"{} has NaN in its correlation matrix\".format(subj))\n",
    "            continue\n",
    "        else:\n",
    "            lst_usable.append(subj)\n",
    "            df_corr.to_csv('{}/outputs/{}/{}_86ROI_8contrasts_rm_SST_corr_matrix_bsl.txt'.format(base_dir,outfolder,subj), sep=' ', header=False, float_format='%.3f', index=False)"
   ]
  },
  {
   "cell_type": "code",
   "execution_count": null,
   "metadata": {},
   "outputs": [],
   "source": [
    "len(lst_usable)"
   ]
  },
  {
   "cell_type": "code",
   "execution_count": null,
   "metadata": {},
   "outputs": [],
   "source": [
    "with open(\"{}/outputs/{}/lst_usable_bsl.txt\".format(base_dir, outfolder),'w') as f:\n",
    "    for subj in lst_usable:\n",
    "        f.write(\"{}\\n\".format(subj))"
   ]
  },
  {
   "cell_type": "markdown",
   "metadata": {},
   "source": [
    "### Year 2"
   ]
  },
  {
   "cell_type": "code",
   "execution_count": null,
   "metadata": {},
   "outputs": [],
   "source": [
    "outfolder='coactivation_matrices_y2_86ROIs_rm_SST'"
   ]
  },
  {
   "cell_type": "code",
   "execution_count": null,
   "metadata": {},
   "outputs": [],
   "source": [
    "i=0\n",
    "lst_usable = []\n",
    "for subj in lst_subjkey_y2:\n",
    "    i=i+1\n",
    "    df_tmp=pd.read_csv('{}/outputs/coactivation_matrices_y2_86ROIs/{}_86ROI_12contrasts_data_matrix_y2.csv'.format(base_dir,subj), index_col=0)\n",
    "    df_tmp = df_tmp[lst_contrasts]\n",
    "    \n",
    "    df_tmp.to_csv('{}/outputs/{}/{}_86ROI_8contrasts_rm_SST_data_matrix_y2.csv'.format(base_dir,outfolder,subj))\n",
    "    if df_tmp.isnull().values.any():\n",
    "        print(\"{} has NaN in its data matrix\".format(subj))\n",
    "        continue\n",
    "    else:\n",
    "        df_corr = df_tmp.T.corr()\n",
    "        if df_corr.isnull().values.any():\n",
    "            print(\"{} has NaN in its correlation matrix\".format(subj))\n",
    "            continue\n",
    "        else:\n",
    "            lst_usable.append(subj)\n",
    "            df_corr.to_csv('{}/outputs/{}/{}_86ROI_8contrasts_rm_SST_corr_matrix_y2.txt'.format(base_dir,outfolder,subj), sep=' ', header=False, float_format='%.3f', index=False)"
   ]
  },
  {
   "cell_type": "code",
   "execution_count": null,
   "metadata": {},
   "outputs": [],
   "source": [
    "len(lst_usable)"
   ]
  },
  {
   "cell_type": "code",
   "execution_count": null,
   "metadata": {},
   "outputs": [],
   "source": [
    "with open(\"{}/outputs/{}/lst_usable_y2.txt\".format(base_dir, outfolder),'w') as f:\n",
    "    for subj in lst_usable:\n",
    "        f.write(\"{}\\n\".format(subj))"
   ]
  },
  {
   "cell_type": "markdown",
   "metadata": {},
   "source": [
    "---"
   ]
  },
  {
   "cell_type": "markdown",
   "metadata": {},
   "source": [
    "# Make matrix, but remove nBack\n",
    "This assumes that you have already run make_coactivation_matrix"
   ]
  },
  {
   "cell_type": "markdown",
   "metadata": {},
   "source": [
    "## Determine column and index labels"
   ]
  },
  {
   "cell_type": "code",
   "execution_count": null,
   "metadata": {},
   "outputs": [],
   "source": [
    "lst_contrasts = ['MID all anticipation of loss versus neutral contrast','MID all anticipation of reward versus neutral contrast','MID all loss positive versus negative feedback contrast','MID all reward positive versus negative feedback contrast',\n",
    "                'SST correct stop versus correct go contrast','SST incorrect stop versus correct go contrast','SST correct stop versus incorrect stop contrast','SST incorrect go versus correct go contrast']"
   ]
  },
  {
   "cell_type": "code",
   "execution_count": null,
   "metadata": {},
   "outputs": [],
   "source": [
    "lst_contrasts"
   ]
  },
  {
   "cell_type": "code",
   "execution_count": null,
   "metadata": {},
   "outputs": [],
   "source": [
    "with open('{}/outputs/lst_rois_APARC_ASEG_86ROIs.txt'.format(base_dir),'r') as f:\n",
    "    lst_rois=f.read().splitlines()"
   ]
  },
  {
   "cell_type": "code",
   "execution_count": null,
   "metadata": {},
   "outputs": [],
   "source": [
    "len(lst_rois)"
   ]
  },
  {
   "cell_type": "code",
   "execution_count": null,
   "metadata": {},
   "outputs": [],
   "source": [
    "lst_rois[:5]"
   ]
  },
  {
   "cell_type": "markdown",
   "metadata": {},
   "source": [
    "## Make matrix\n",
    "### Baseline"
   ]
  },
  {
   "cell_type": "code",
   "execution_count": null,
   "metadata": {},
   "outputs": [],
   "source": [
    "outfolder='coactivation_matrices_bsl_86ROIs_rm_nBack'"
   ]
  },
  {
   "cell_type": "code",
   "execution_count": null,
   "metadata": {},
   "outputs": [],
   "source": [
    "i=0\n",
    "lst_usable = []\n",
    "for subj in lst_subjkey_bsl:\n",
    "    i=i+1\n",
    "    df_tmp=pd.read_csv('{}/outputs/coactivation_matrices_bsl_86ROIs/{}_86ROI_12contrasts_data_matrix_bsl.csv'.format(base_dir,subj), index_col=0)\n",
    "    df_tmp = df_tmp[lst_contrasts]\n",
    "    \n",
    "    df_tmp.to_csv('{}/outputs/{}/{}_86ROI_8contrasts_rm_nBack_data_matrix_bsl.csv'.format(base_dir,outfolder,subj))\n",
    "    if df_tmp.isnull().values.any():\n",
    "        print(\"{} has NaN in its data matrix\".format(subj))\n",
    "        continue\n",
    "    else:\n",
    "        df_corr = df_tmp.T.corr()\n",
    "        if df_corr.isnull().values.any():\n",
    "            print(\"{} has NaN in its correlation matrix\".format(subj))\n",
    "            continue\n",
    "        else:\n",
    "            lst_usable.append(subj)\n",
    "            df_corr.to_csv('{}/outputs/{}/{}_86ROI_8contrasts_rm_nBack_corr_matrix_bsl.txt'.format(base_dir,outfolder,subj), sep=' ', header=False, float_format='%.3f', index=False)"
   ]
  },
  {
   "cell_type": "code",
   "execution_count": null,
   "metadata": {},
   "outputs": [],
   "source": [
    "len(lst_usable)"
   ]
  },
  {
   "cell_type": "code",
   "execution_count": null,
   "metadata": {},
   "outputs": [],
   "source": [
    "with open(\"{}/outputs/{}/lst_usable_bsl.txt\".format(base_dir, outfolder),'w') as f:\n",
    "    for subj in lst_usable:\n",
    "        f.write(\"{}\\n\".format(subj))"
   ]
  },
  {
   "cell_type": "markdown",
   "metadata": {},
   "source": [
    "### Year 2"
   ]
  },
  {
   "cell_type": "code",
   "execution_count": null,
   "metadata": {},
   "outputs": [],
   "source": [
    "outfolder='coactivation_matrices_y2_86ROIs_rm_nBack'"
   ]
  },
  {
   "cell_type": "code",
   "execution_count": null,
   "metadata": {},
   "outputs": [],
   "source": [
    "i=0\n",
    "lst_usable = []\n",
    "for subj in lst_subjkey_y2:\n",
    "    i=i+1\n",
    "    df_tmp=pd.read_csv('{}/outputs/coactivation_matrices_y2_86ROIs/{}_86ROI_12contrasts_data_matrix_y2.csv'.format(base_dir,subj), index_col=0)\n",
    "    df_tmp = df_tmp[lst_contrasts]\n",
    "    \n",
    "    df_tmp.to_csv('{}/outputs/{}/{}_86ROI_8contrasts_rm_nBack_data_matrix_y2.csv'.format(base_dir,outfolder,subj))\n",
    "    if df_tmp.isnull().values.any():\n",
    "        print(\"{} has NaN in its data matrix\".format(subj))\n",
    "        continue\n",
    "    else:\n",
    "        df_corr = df_tmp.T.corr()\n",
    "        if df_corr.isnull().values.any():\n",
    "            print(\"{} has NaN in its correlation matrix\".format(subj))\n",
    "            continue\n",
    "        else:\n",
    "            lst_usable.append(subj)\n",
    "            df_corr.to_csv('{}/outputs/{}/{}_86ROI_8contrasts_rm_nBack_corr_matrix_y2.txt'.format(base_dir,outfolder,subj), sep=' ', header=False, float_format='%.3f', index=False)"
   ]
  },
  {
   "cell_type": "code",
   "execution_count": null,
   "metadata": {},
   "outputs": [],
   "source": [
    "len(lst_usable)"
   ]
  },
  {
   "cell_type": "code",
   "execution_count": null,
   "metadata": {},
   "outputs": [],
   "source": [
    "with open(\"{}/outputs/{}/lst_usable_y2.txt\".format(base_dir, outfolder),'w') as f:\n",
    "    for subj in lst_usable:\n",
    "        f.write(\"{}\\n\".format(subj))"
   ]
  },
  {
   "cell_type": "markdown",
   "metadata": {},
   "source": [
    "---"
   ]
  },
  {
   "cell_type": "markdown",
   "metadata": {},
   "source": [
    "# Make matrix, but remove MID\n",
    "This assumes that you have already run make_coactivation_matrix"
   ]
  },
  {
   "cell_type": "markdown",
   "metadata": {},
   "source": [
    "## Determine column and index labels"
   ]
  },
  {
   "cell_type": "code",
   "execution_count": null,
   "metadata": {},
   "outputs": [],
   "source": [
    "lst_contrasts = ['nBack 2 back versus 0 back contrast','nBack face versus place contrast','nBack negative face versus neutral face contrast','nBack positive face versus neutral face contrast', \n",
    "                 'SST correct stop versus correct go contrast','SST incorrect stop versus correct go contrast','SST correct stop versus incorrect stop contrast','SST incorrect go versus correct go contrast']"
   ]
  },
  {
   "cell_type": "code",
   "execution_count": null,
   "metadata": {},
   "outputs": [],
   "source": [
    "lst_contrasts"
   ]
  },
  {
   "cell_type": "code",
   "execution_count": null,
   "metadata": {},
   "outputs": [],
   "source": [
    "with open('{}/outputs/lst_rois_APARC_ASEG_86ROIs.txt'.format(base_dir),'r') as f:\n",
    "    lst_rois=f.read().splitlines()"
   ]
  },
  {
   "cell_type": "code",
   "execution_count": null,
   "metadata": {},
   "outputs": [],
   "source": [
    "len(lst_rois)"
   ]
  },
  {
   "cell_type": "code",
   "execution_count": null,
   "metadata": {},
   "outputs": [],
   "source": [
    "lst_rois[:5]"
   ]
  },
  {
   "cell_type": "markdown",
   "metadata": {},
   "source": [
    "## Make matrix\n",
    "### Baseline"
   ]
  },
  {
   "cell_type": "code",
   "execution_count": null,
   "metadata": {},
   "outputs": [],
   "source": [
    "outfolder='coactivation_matrices_bsl_86ROIs_rm_MID'"
   ]
  },
  {
   "cell_type": "code",
   "execution_count": null,
   "metadata": {},
   "outputs": [],
   "source": [
    "i=0\n",
    "lst_usable = []\n",
    "for subj in lst_subjkey_bsl:\n",
    "    i=i+1\n",
    "    df_tmp=pd.read_csv('{}/outputs/coactivation_matrices_bsl_86ROIs/{}_86ROI_12contrasts_data_matrix_bsl.csv'.format(base_dir,subj), index_col=0)\n",
    "    df_tmp = df_tmp[lst_contrasts]\n",
    "    \n",
    "    df_tmp.to_csv('{}/outputs/{}/{}_86ROI_8contrasts_rm_MID_data_matrix_bsl.csv'.format(base_dir,outfolder,subj))\n",
    "    if df_tmp.isnull().values.any():\n",
    "        print(\"{} has NaN in its data matrix\".format(subj))\n",
    "        continue\n",
    "    else:\n",
    "        df_corr = df_tmp.T.corr()\n",
    "        if df_corr.isnull().values.any():\n",
    "            print(\"{} has NaN in its correlation matrix\".format(subj))\n",
    "            continue\n",
    "        else:\n",
    "            lst_usable.append(subj)\n",
    "            df_corr.to_csv('{}/outputs/{}/{}_86ROI_8contrasts_rm_MID_corr_matrix_bsl.txt'.format(base_dir,outfolder,subj), sep=' ', header=False, float_format='%.3f', index=False)"
   ]
  },
  {
   "cell_type": "code",
   "execution_count": null,
   "metadata": {},
   "outputs": [],
   "source": [
    "len(lst_usable)"
   ]
  },
  {
   "cell_type": "code",
   "execution_count": null,
   "metadata": {},
   "outputs": [],
   "source": [
    "with open(\"{}/outputs/{}/lst_usable_bsl.txt\".format(base_dir, outfolder),'w') as f:\n",
    "    for subj in lst_usable:\n",
    "        f.write(\"{}\\n\".format(subj))"
   ]
  },
  {
   "cell_type": "markdown",
   "metadata": {},
   "source": [
    "### Year 2"
   ]
  },
  {
   "cell_type": "code",
   "execution_count": null,
   "metadata": {},
   "outputs": [],
   "source": [
    "outfolder='coactivation_matrices_y2_86ROIs_rm_MID'"
   ]
  },
  {
   "cell_type": "code",
   "execution_count": null,
   "metadata": {},
   "outputs": [],
   "source": [
    "i=0\n",
    "lst_usable = []\n",
    "for subj in lst_subjkey_y2:\n",
    "    i=i+1\n",
    "    df_tmp=pd.read_csv('{}/outputs/coactivation_matrices_y2_86ROIs/{}_86ROI_12contrasts_data_matrix_y2.csv'.format(base_dir,subj), index_col=0)\n",
    "    df_tmp = df_tmp[lst_contrasts]\n",
    "    \n",
    "    df_tmp.to_csv('{}/outputs/{}/{}_86ROI_8contrasts_rm_MID_data_matrix_y2.csv'.format(base_dir,outfolder,subj))\n",
    "    if df_tmp.isnull().values.any():\n",
    "        print(\"{} has NaN in its data matrix\".format(subj))\n",
    "        continue\n",
    "    else:\n",
    "        df_corr = df_tmp.T.corr()\n",
    "        if df_corr.isnull().values.any():\n",
    "            print(\"{} has NaN in its correlation matrix\".format(subj))\n",
    "            continue\n",
    "        else:\n",
    "            lst_usable.append(subj)\n",
    "            df_corr.to_csv('{}/outputs/{}/{}_86ROI_8contrasts_rm_MID_corr_matrix_y2.txt'.format(base_dir,outfolder,subj), sep=' ', header=False, float_format='%.3f', index=False)"
   ]
  },
  {
   "cell_type": "code",
   "execution_count": null,
   "metadata": {},
   "outputs": [],
   "source": [
    "len(lst_usable)"
   ]
  },
  {
   "cell_type": "code",
   "execution_count": null,
   "metadata": {},
   "outputs": [],
   "source": [
    "with open(\"{}/outputs/{}/lst_usable_y2.txt\".format(base_dir, outfolder),'w') as f:\n",
    "    for subj in lst_usable:\n",
    "        f.write(\"{}\\n\".format(subj))"
   ]
  },
  {
   "cell_type": "markdown",
   "metadata": {},
   "source": [
    "---"
   ]
  },
  {
   "cell_type": "markdown",
   "metadata": {},
   "source": [
    "---"
   ]
  }
 ],
 "metadata": {
  "kernelspec": {
   "display_name": "Python 3",
   "language": "python",
   "name": "python3"
  },
  "language_info": {
   "codemirror_mode": {
    "name": "ipython",
    "version": 3
   },
   "file_extension": ".py",
   "mimetype": "text/x-python",
   "name": "python",
   "nbconvert_exporter": "python",
   "pygments_lexer": "ipython3",
   "version": "3.8.1"
  }
 },
 "nbformat": 4,
 "nbformat_minor": 4
}
