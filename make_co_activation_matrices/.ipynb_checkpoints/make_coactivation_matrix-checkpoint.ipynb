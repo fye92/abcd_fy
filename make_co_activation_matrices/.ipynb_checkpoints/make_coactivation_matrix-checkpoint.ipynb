{
 "cells": [
  {
   "cell_type": "code",
   "execution_count": null,
   "metadata": {},
   "outputs": [],
   "source": [
    "import pandas as pd"
   ]
  },
  {
   "cell_type": "code",
   "execution_count": null,
   "metadata": {},
   "outputs": [],
   "source": [
    "base_dir = '/path/to/data'"
   ]
  },
  {
   "cell_type": "markdown",
   "metadata": {},
   "source": [
    "# Read Data\n",
    "## Read inclusion list"
   ]
  },
  {
   "cell_type": "code",
   "execution_count": null,
   "metadata": {},
   "outputs": [],
   "source": [
    "with open('{}/outputs/lst_subjkey_include_bsl.txt'.format(base_dir),'r') as f:\n",
    "    lst_subjkey_bsl = f.read().splitlines()\n",
    "\n",
    "with open('{}/outputs/lst_subjkey_include_y2.txt'.format(base_dir),'r') as f:\n",
    "    lst_subjkey_y2 = f.read().splitlines()"
   ]
  },
  {
   "cell_type": "code",
   "execution_count": null,
   "metadata": {},
   "outputs": [],
   "source": [
    "print(\"Baseline #subj recommended to include: {}\".format(len(lst_subjkey_bsl)))\n",
    "print(\"Year2 #subj recommended to include: {}\".format(len(lst_subjkey_y2)))"
   ]
  },
  {
   "cell_type": "markdown",
   "metadata": {},
   "source": [
    "## Read beta weights"
   ]
  },
  {
   "cell_type": "markdown",
   "metadata": {},
   "source": [
    "### SST beta weights"
   ]
  },
  {
   "cell_type": "code",
   "execution_count": null,
   "metadata": {},
   "outputs": [],
   "source": [
    "df_sst = pd.read_table('{}/mrisst02.txt'.format(base_dir), skiprows=[1])\n",
    "print(df_sst.eventname.unique())"
   ]
  },
  {
   "cell_type": "code",
   "execution_count": null,
   "metadata": {},
   "outputs": [],
   "source": [
    "df_sst_bsl=df_sst[df_sst['eventname']=='baseline_year_1_arm_1']\n",
    "df_sst_y2=df_sst[df_sst['eventname']=='2_year_follow_up_y_arm_1']\n",
    "\n",
    "# sort\n",
    "df_sst_bsl=df_sst_bsl.sort_values(by=['subjectkey','interview_date'])\n",
    "df_sst_y2=df_sst_y2.sort_values(by=['subjectkey','interview_date'])"
   ]
  },
  {
   "cell_type": "code",
   "execution_count": null,
   "metadata": {},
   "outputs": [],
   "source": [
    "print(\"Length of the whole table: {}\".format(len(df_sst)))\n",
    "print(\"Length of basline: {}. Number of unique subject key: {}\".format(len(df_sst_bsl),len(df_sst_bsl.subjectkey.unique())))\n",
    "print(\"Length of year2: {}. Number of unique subject key: {}\".format(len(df_sst_y2),len(df_sst_y2.subjectkey.unique())))"
   ]
  },
  {
   "cell_type": "code",
   "execution_count": null,
   "metadata": {},
   "outputs": [],
   "source": [
    "# match with inclusion list\n",
    "df_sst_bsl_inc = df_sst_bsl[df_sst_bsl['subjectkey'].isin(lst_subjkey_bsl)]\n",
    "df_sst_y2_inc = df_sst_y2[df_sst_y2['subjectkey'].isin(lst_subjkey_y2)]\n",
    "print(\"Length of inclusion for basline: {}\".format(len(df_sst_bsl_inc)))\n",
    "print(\"Length of inclusion for year2: {}\".format(len(df_sst_y2_inc)))"
   ]
  },
  {
   "cell_type": "code",
   "execution_count": null,
   "metadata": {},
   "outputs": [],
   "source": [
    "df_sst_bsl_inc.head()"
   ]
  },
  {
   "cell_type": "markdown",
   "metadata": {},
   "source": [
    "### Emotional nback beta weights"
   ]
  },
  {
   "cell_type": "code",
   "execution_count": null,
   "metadata": {},
   "outputs": [],
   "source": [
    "df_nback = pd.read_table('{}/nback_bwroi02.txt'.format(base_dir), skiprows=[1])\n",
    "print(df_nback.eventname.unique())"
   ]
  },
  {
   "cell_type": "code",
   "execution_count": null,
   "metadata": {},
   "outputs": [],
   "source": [
    "df_nback_bsl=df_nback[df_nback['eventname']=='baseline_year_1_arm_1']\n",
    "df_nback_y2=df_nback[df_nback['eventname']=='2_year_follow_up_y_arm_1']\n",
    "\n",
    "# sort\n",
    "df_nback_bsl=df_nback_bsl.sort_values(by=['subjectkey','interview_date'])\n",
    "df_nback_y2=df_nback_y2.sort_values(by=['subjectkey','interview_date'])"
   ]
  },
  {
   "cell_type": "code",
   "execution_count": null,
   "metadata": {},
   "outputs": [],
   "source": [
    "print(\"Length of the whole table: {}\".format(len(df_nback)))\n",
    "print(\"Length of basline: {}. Number of unique subject key: {}\".format(len(df_nback_bsl),len(df_nback_bsl.subjectkey.unique())))\n",
    "print(\"Length of year2: {}. Number of unique subject key: {}\".format(len(df_nback_y2),len(df_nback_y2.subjectkey.unique())))"
   ]
  },
  {
   "cell_type": "code",
   "execution_count": null,
   "metadata": {},
   "outputs": [],
   "source": [
    "# match with inclusion list\n",
    "df_nback_bsl_inc = df_nback_bsl[df_nback_bsl['subjectkey'].isin(lst_subjkey_bsl)]\n",
    "df_nback_y2_inc = df_nback_y2[df_nback_y2['subjectkey'].isin(lst_subjkey_y2)]\n",
    "print(\"Length of inclusion for basline: {}\".format(len(df_nback_bsl_inc)))\n",
    "print(\"Length of inclusion for year2: {}\".format(len(df_nback_y2_inc)))"
   ]
  },
  {
   "cell_type": "code",
   "execution_count": null,
   "metadata": {},
   "outputs": [],
   "source": [
    "df_nback_bsl_inc.head()"
   ]
  },
  {
   "cell_type": "markdown",
   "metadata": {},
   "source": [
    "### MID beta weights"
   ]
  },
  {
   "cell_type": "code",
   "execution_count": null,
   "metadata": {},
   "outputs": [],
   "source": [
    "df_mid_p1 = pd.read_table('{}/midaparc03.txt'.format(base_dir), skiprows=[1])\n",
    "df_mid_p2 = pd.read_table('{}/midaparcp203.txt'.format(base_dir), skiprows=[1])\n",
    "print(df_mid_p1.eventname.unique())\n",
    "print(df_mid_p2.eventname.unique())"
   ]
  },
  {
   "cell_type": "code",
   "execution_count": null,
   "metadata": {},
   "outputs": [],
   "source": [
    "df_mid_p1_bsl=df_mid_p1[df_mid_p1['eventname']=='baseline_year_1_arm_1']\n",
    "df_mid_p2_bsl=df_mid_p2[df_mid_p2['eventname']=='baseline_year_1_arm_1']\n",
    "\n",
    "df_mid_p1_y2=df_mid_p1[df_mid_p1['eventname']=='2_year_follow_up_y_arm_1']\n",
    "df_mid_p2_y2=df_mid_p2[df_mid_p2['eventname']=='2_year_follow_up_y_arm_1']\n",
    "\n",
    "# sort\n",
    "df_mid_p1_bsl=df_mid_p1_bsl.sort_values(by=['subjectkey','interview_date'])\n",
    "df_mid_p1_y2=df_mid_p1_y2.sort_values(by=['subjectkey','interview_date'])\n",
    "df_mid_p2_bsl=df_mid_p2_bsl.sort_values(by=['subjectkey','interview_date'])\n",
    "df_mid_p2_y2=df_mid_p2_y2.sort_values(by=['subjectkey','interview_date'])"
   ]
  },
  {
   "cell_type": "code",
   "execution_count": null,
   "metadata": {},
   "outputs": [],
   "source": [
    "print(\"Length of the whole table: part1 {}, part2 {}\".format(len(df_mid_p1),len(df_mid_p2)))\n",
    "print(\"Length of basline: part1 {}, part2 {}. Number of unique subject key: part1 {}, part2 {}\".format(len(df_mid_p1_bsl),len(df_mid_p2_bsl),len(df_mid_p1_bsl.subjectkey.unique()),len(df_mid_p2_bsl.subjectkey.unique())))\n",
    "print(\"Length of year2: part1 {}, part2 {}. Number of unique subject key: part1 {}, part2 {}\".format(len(df_mid_p1_y2),len(df_mid_p2_y2),len(df_mid_p1_y2.subjectkey.unique()),len(df_mid_p2_y2.subjectkey.unique())))"
   ]
  },
  {
   "cell_type": "code",
   "execution_count": null,
   "metadata": {},
   "outputs": [],
   "source": [
    "# merge on subjectkey\n",
    "print(len(df_mid_p1_bsl.columns),len(df_mid_p2_bsl.columns))\n",
    "df_mid_bsl = pd.merge(df_mid_p1_bsl,df_mid_p2_bsl,how='inner',\n",
    "                      on=['subjectkey','src_subject_id','sex','interview_date','interview_age','eventname','collection_id', 'dataset_id','collection_title'],\n",
    "                      suffixes=('_p1', '_p2'),\n",
    "                      validate='one_to_one')\n",
    "\n",
    "print(len(df_mid_p1_y2.columns),len(df_mid_p2_y2.columns))\n",
    "df_mid_y2 = pd.merge(df_mid_p1_y2,df_mid_p2_y2,how='inner',\n",
    "                      on=['subjectkey','src_subject_id','sex','interview_date','interview_age','eventname','collection_id', 'dataset_id','collection_title'],\n",
    "                      suffixes=('_p1', '_p2'),\n",
    "                      validate='one_to_one')"
   ]
  },
  {
   "cell_type": "code",
   "execution_count": null,
   "metadata": {},
   "outputs": [],
   "source": [
    "print(df_mid_bsl.shape)\n",
    "print(df_mid_y2.shape)"
   ]
  },
  {
   "cell_type": "code",
   "execution_count": null,
   "metadata": {},
   "outputs": [],
   "source": [
    "# match with inclusion list\n",
    "df_mid_bsl_inc = df_mid_bsl[df_mid_bsl['subjectkey'].isin(lst_subjkey_bsl)]\n",
    "df_mid_y2_inc = df_mid_y2[df_mid_y2['subjectkey'].isin(lst_subjkey_y2)]\n",
    "print(\"Length of inclusion for basline: {}\".format(len(df_mid_bsl_inc)))\n",
    "print(\"Length of inclusion for year2: {}\".format(len(df_mid_y2_inc)))"
   ]
  },
  {
   "cell_type": "code",
   "execution_count": null,
   "metadata": {},
   "outputs": [],
   "source": [
    "df_mid_bsl_inc.head()"
   ]
  },
  {
   "cell_type": "markdown",
   "metadata": {},
   "source": [
    "# Create Co-Activation Matrix\n",
    "For each subject, output a correlation matrix and a raw data matrix (#ROI x 12 contrasts)"
   ]
  },
  {
   "cell_type": "markdown",
   "metadata": {},
   "source": [
    "## Make dictionaries for key conversion\n",
    "### SST"
   ]
  },
  {
   "cell_type": "code",
   "execution_count": null,
   "metadata": {},
   "outputs": [],
   "source": [
    "dict_sst = pd.read_table('{}/mrisst02.txt'.format(base_dir), nrows=1)\n",
    "header_sst = dict_sst.values.tolist()[0]\n",
    "key_sst = dict_sst.columns.tolist()"
   ]
  },
  {
   "cell_type": "code",
   "execution_count": null,
   "metadata": {},
   "outputs": [],
   "source": [
    "find_key_sst = dict(zip(header_sst,key_sst))\n",
    "find_key_sst['Mean beta weight for SST correct go versus fixation contrast in ASEG ROI left-amygdala']"
   ]
  },
  {
   "cell_type": "markdown",
   "metadata": {},
   "source": [
    "### Emotional Nback"
   ]
  },
  {
   "cell_type": "code",
   "execution_count": null,
   "metadata": {},
   "outputs": [],
   "source": [
    "dict_nback = pd.read_table('{}/nback_bwroi02.txt'.format(base_dir), nrows=1)\n",
    "header_nback = dict_nback.values.tolist()[0]\n",
    "key_nback = dict_nback.columns.tolist()"
   ]
  },
  {
   "cell_type": "code",
   "execution_count": null,
   "metadata": {},
   "outputs": [],
   "source": [
    "find_key_nback = dict(zip(header_nback,key_nback))\n",
    "find_key_nback['Mean beta weight for nBack 0 back condition in APARC ROI rh-parstriangularis']"
   ]
  },
  {
   "cell_type": "code",
   "execution_count": null,
   "metadata": {},
   "outputs": [],
   "source": [
    "print(header_nback.index('Mean beta weight for nBack 0 back condition in APARC ROI rh-parstriangularis'))\n",
    "print(key_nback.index('tfmri_nback_all_323'))"
   ]
  },
  {
   "cell_type": "markdown",
   "metadata": {},
   "source": [
    "### MID"
   ]
  },
  {
   "cell_type": "code",
   "execution_count": null,
   "metadata": {},
   "outputs": [],
   "source": [
    "key_mid = df_mid_bsl_inc.columns.tolist()"
   ]
  },
  {
   "cell_type": "code",
   "execution_count": null,
   "metadata": {},
   "outputs": [],
   "source": [
    "len(key_mid)"
   ]
  },
  {
   "cell_type": "code",
   "execution_count": null,
   "metadata": {},
   "outputs": [],
   "source": [
    "dict_mid_p1 = pd.read_table('{}/midaparc03.txt'.format(base_dir), nrows=1)\n",
    "header_mid_p1 = dict_mid_p1.values.tolist()[0]\n",
    "key_mid_p1 = dict_mid_p1.columns.tolist()\n",
    "\n",
    "dict_mid_p2 = pd.read_table('{}/midaparcp203.txt'.format(base_dir), nrows=1)\n",
    "header_mid_p2 = dict_mid_p2.values.tolist()[0]\n",
    "key_mid_p2 = dict_mid_p2.columns.tolist()"
   ]
  },
  {
   "cell_type": "code",
   "execution_count": null,
   "metadata": {},
   "outputs": [],
   "source": [
    "dt1 = dict(zip(key_mid_p1, header_mid_p1))\n",
    "dt2 = dict(zip(key_mid_p2, header_mid_p2))"
   ]
  },
  {
   "cell_type": "code",
   "execution_count": null,
   "metadata": {},
   "outputs": [],
   "source": [
    "header_mid = []\n",
    "for key in key_mid:\n",
    "    if key in dt1:\n",
    "        header_mid.append(dt1[key])\n",
    "    elif key in dt2:\n",
    "        header_mid.append(dt2[key])\n",
    "    else:\n",
    "        print(\"No match for {}?\".format(key))"
   ]
  },
  {
   "cell_type": "code",
   "execution_count": null,
   "metadata": {},
   "outputs": [],
   "source": [
    "find_key_mid = dict(zip(header_mid,key_mid))\n",
    "find_key_mid['Beta weight for MID all anticipation of small reward versus neutral contrast in APARC ROI lh-cuneus']"
   ]
  },
  {
   "cell_type": "markdown",
   "metadata": {},
   "source": [
    "## Determin column and index labels"
   ]
  },
  {
   "cell_type": "code",
   "execution_count": null,
   "metadata": {},
   "outputs": [],
   "source": [
    "lst_contrasts = ['nBack 2 back versus 0 back contrast','nBack face versus place contrast','nBack negative face versus neutral face contrast','nBack positive face versus neutral face contrast',\n",
    "                'MID all anticipation of loss versus neutral contrast','MID all anticipation of reward versus neutral contrast','MID all loss positive versus negative feedback contrast','MID all reward positive versus negative feedback contrast',\n",
    "                'SST correct stop versus correct go contrast','SST incorrect stop versus correct go contrast','SST correct stop versus incorrect stop contrast','SST incorrect go versus correct go contrast']"
   ]
  },
  {
   "cell_type": "code",
   "execution_count": null,
   "metadata": {},
   "outputs": [],
   "source": [
    "lst_contrasts"
   ]
  },
  {
   "cell_type": "code",
   "execution_count": null,
   "metadata": {},
   "outputs": [],
   "source": [
    "sub_header_sst = [x for x in header_sst if 'SST correct go versus fixation contrast' in x]\n",
    "print(len(sub_header_sst))"
   ]
  },
  {
   "cell_type": "code",
   "execution_count": null,
   "metadata": {},
   "outputs": [],
   "source": [
    "lst_rois_all = [x[64:] for x in sub_header_sst]\n",
    "lst_roi_rm = ['ASEG ROI left-cerebral-white-matter','ASEG ROI left-lateral-ventricle','ASEG ROI left-inf-lat-vent',\n",
    "              'ASEG ROI left-cerebellum-white-matter','ASEG ROI 3rd-ventricle','ASEG ROI 4th-ventricle','ASEG ROI brain-stem',\n",
    "             'ASEG ROI csf','ASEG ROI right-cerebral-white-matter','ASEG ROI right-lateral-ventricle','ASEG ROI right-inf-lat-vent',\n",
    "              'ASEG ROI right-cerebellum-white-matter']\n",
    "lst_rois = [x for x in lst_rois_all if x not in lst_roi_rm]"
   ]
  },
  {
   "cell_type": "code",
   "execution_count": null,
   "metadata": {},
   "outputs": [],
   "source": [
    "len(lst_rois)"
   ]
  },
  {
   "cell_type": "code",
   "execution_count": null,
   "metadata": {},
   "outputs": [],
   "source": [
    "with open('{}/outputs/lst_rois_APARC_ASEG_86ROIs.txt'.format(base_dir),'w') as f:\n",
    "    for roi in lst_rois:\n",
    "        f.write('{}\\n'.format(roi))"
   ]
  },
  {
   "cell_type": "markdown",
   "metadata": {},
   "source": [
    "## Make matrix\n",
    "### Baseline"
   ]
  },
  {
   "cell_type": "code",
   "execution_count": null,
   "metadata": {},
   "outputs": [],
   "source": [
    "outfolder='coactivation_matrices_bsl_86ROIs'"
   ]
  },
  {
   "cell_type": "code",
   "execution_count": null,
   "metadata": {},
   "outputs": [],
   "source": [
    "i=0\n",
    "lst_usable = []\n",
    "for subj in lst_subjkey_bsl:\n",
    "    i=i+1\n",
    "    #print(\"#{} subjectkey: {}\".format(i, subj))\n",
    "    df_tmp = pd.DataFrame(index=lst_rois, columns=lst_contrasts)\n",
    "    for contrast in lst_contrasts:\n",
    "        lst_values = []\n",
    "        for roi in lst_rois:\n",
    "            sub_str = contrast + ' in ' + roi\n",
    "            if 'nBack' in contrast:\n",
    "                lst_hd = [x for x in header_nback if sub_str in x]\n",
    "                if len(lst_hd) != 1:\n",
    "                    print(\"WARNING: multiple match?? Or no match??\")\n",
    "                else:\n",
    "                    hd = lst_hd[0]\n",
    "                    ky = find_key_nback[hd]\n",
    "                    beta = df_nback_bsl_inc[df_nback_bsl_inc['subjectkey']==subj][ky].values.tolist()[0]\n",
    "                    lst_values.append(beta)\n",
    "            elif 'MID' in contrast:\n",
    "                lst_hd = [x for x in header_mid if sub_str in x]\n",
    "                if len(lst_hd) != 1:\n",
    "                    print(\"WARNING: multiple match?? Or no match??\")\n",
    "                else:\n",
    "                    hd = lst_hd[0]\n",
    "                    ky = find_key_mid[hd]\n",
    "                    beta = df_mid_bsl_inc[df_mid_bsl_inc['subjectkey']==subj][ky].values.tolist()[0]\n",
    "                    lst_values.append(beta)\n",
    "            elif 'SST' in contrast:\n",
    "                lst_hd = [x for x in header_sst if sub_str in x]\n",
    "                if len(lst_hd) != 1:\n",
    "                    print(\"WARNING: multiple match?? Or no match??\")\n",
    "                else:\n",
    "                    hd = lst_hd[0]\n",
    "                    ky = find_key_sst[hd]\n",
    "                    beta = df_sst_bsl_inc[df_sst_bsl_inc['subjectkey']==subj][ky].values.tolist()[0]\n",
    "                    lst_values.append(beta)\n",
    "            else:\n",
    "                print(\"ERROR: No match for task name?\")\n",
    "        \n",
    "        df_tmp[contrast]=lst_values\n",
    "    df_tmp.to_csv('{}/outputs/{}/{}_86ROI_12contrasts_data_matrix_bsl.csv'.format(base_dir,outfolder,subj))\n",
    "    if df_tmp.isnull().values.any():\n",
    "        print(\"{} has NaN in its data matrix\".format(subj))\n",
    "        continue\n",
    "    else:\n",
    "        df_corr = df_tmp.T.corr()\n",
    "        if df_corr.isnull().values.any():\n",
    "            print(\"{} has NaN in its correlation matrix\".format(subj))\n",
    "            continue\n",
    "        else:\n",
    "            lst_usable.append(subj)\n",
    "            df_corr.to_csv('{}/outputs/{}/{}_86ROI_12contrasts_corr_matrix_bsl.txt'.format(base_dir,outfolder,subj), sep=' ', header=False, float_format='%.3f', index=False)"
   ]
  },
  {
   "cell_type": "code",
   "execution_count": null,
   "metadata": {},
   "outputs": [],
   "source": [
    "len(lst_usable)"
   ]
  },
  {
   "cell_type": "code",
   "execution_count": null,
   "metadata": {},
   "outputs": [],
   "source": [
    "with open(\"{}/outputs/{}/lst_usable_bsl.txt\".format(base_dir, outfolder),'w') as f:\n",
    "    for subj in lst_usable:\n",
    "        f.write(\"{}\\n\".format(subj))"
   ]
  },
  {
   "cell_type": "markdown",
   "metadata": {},
   "source": [
    "### Year 2"
   ]
  },
  {
   "cell_type": "code",
   "execution_count": null,
   "metadata": {},
   "outputs": [],
   "source": [
    "outfolder='coactivation_matrices_y2_86ROIs'"
   ]
  },
  {
   "cell_type": "code",
   "execution_count": null,
   "metadata": {},
   "outputs": [],
   "source": [
    "i=0\n",
    "lst_usable = []\n",
    "for subj in lst_subjkey_y2:\n",
    "    i=i+1\n",
    "    #print(\"#{} subjectkey: {}\".format(i, subj))\n",
    "    df_tmp = pd.DataFrame(index=lst_rois, columns=lst_contrasts)\n",
    "    for contrast in lst_contrasts:\n",
    "        lst_values = []\n",
    "        for roi in lst_rois:\n",
    "            sub_str = contrast + ' in ' + roi\n",
    "            if 'nBack' in contrast:\n",
    "                lst_hd = [x for x in header_nback if sub_str in x]\n",
    "                if len(lst_hd) != 1:\n",
    "                    print(\"WARNING: multiple match?? Or no match??\")\n",
    "                else:\n",
    "                    hd = lst_hd[0]\n",
    "                    ky = find_key_nback[hd]\n",
    "                    beta = df_nback_y2_inc[df_nback_y2_inc['subjectkey']==subj][ky].values.tolist()[0]\n",
    "                    lst_values.append(beta)\n",
    "            elif 'MID' in contrast:\n",
    "                lst_hd = [x for x in header_mid if sub_str in x]\n",
    "                if len(lst_hd) != 1:\n",
    "                    print(\"WARNING: multiple match?? Or no match??\")\n",
    "                else:\n",
    "                    hd = lst_hd[0]\n",
    "                    ky = find_key_mid[hd]\n",
    "                    beta = df_mid_y2_inc[df_mid_y2_inc['subjectkey']==subj][ky].values.tolist()[0]\n",
    "                    lst_values.append(beta)\n",
    "            elif 'SST' in contrast:\n",
    "                lst_hd = [x for x in header_sst if sub_str in x]\n",
    "                if len(lst_hd) != 1:\n",
    "                    print(\"WARNING: multiple match?? Or no match??\")\n",
    "                else:\n",
    "                    hd = lst_hd[0]\n",
    "                    ky = find_key_sst[hd]\n",
    "                    beta = df_sst_y2_inc[df_sst_y2_inc['subjectkey']==subj][ky].values.tolist()[0]\n",
    "                    lst_values.append(beta)\n",
    "            else:\n",
    "                print(\"ERROR: No match for task name?\")\n",
    "        \n",
    "        df_tmp[contrast]=lst_values\n",
    "    df_tmp.to_csv('{}/outputs/{}/{}_86ROI_12contrasts_data_matrix_y2.csv'.format(base_dir,outfolder,subj))\n",
    "    if df_tmp.isnull().values.any():\n",
    "        print(\"{} has NaN in its data matrix\".format(subj))\n",
    "        continue\n",
    "    else:\n",
    "        df_corr = df_tmp.T.corr()\n",
    "        if df_corr.isnull().values.any():\n",
    "            print(\"{} has NaN in its correlation matrix\".format(subj))\n",
    "            continue\n",
    "        else:\n",
    "            lst_usable.append(subj)\n",
    "            df_corr.to_csv('{}/outputs/{}/{}_86ROI_12contrasts_corr_matrix_y2.txt'.format(base_dir,outfolder,subj), sep=' ', header=False, float_format='%.3f', index=False)"
   ]
  },
  {
   "cell_type": "code",
   "execution_count": null,
   "metadata": {},
   "outputs": [],
   "source": [
    "len(lst_usable)"
   ]
  },
  {
   "cell_type": "code",
   "execution_count": null,
   "metadata": {},
   "outputs": [],
   "source": [
    "with open(\"{}/outputs/{}/lst_usable_y2.txt\".format(base_dir, outfolder),'w') as f:\n",
    "    for subj in lst_usable:\n",
    "        f.write(\"{}\\n\".format(subj))"
   ]
  },
  {
   "cell_type": "code",
   "execution_count": null,
   "metadata": {},
   "outputs": [],
   "source": []
  }
 ],
 "metadata": {
  "kernelspec": {
   "display_name": "Python 3",
   "language": "python",
   "name": "python3"
  },
  "language_info": {
   "codemirror_mode": {
    "name": "ipython",
    "version": 3
   },
   "file_extension": ".py",
   "mimetype": "text/x-python",
   "name": "python",
   "nbconvert_exporter": "python",
   "pygments_lexer": "ipython3",
   "version": "3.8.1"
  }
 },
 "nbformat": 4,
 "nbformat_minor": 4
}
