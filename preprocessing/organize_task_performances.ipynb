{
 "cells": [
  {
   "cell_type": "code",
   "execution_count": null,
   "metadata": {},
   "outputs": [],
   "source": [
    "import pandas as pd"
   ]
  },
  {
   "cell_type": "code",
   "execution_count": null,
   "metadata": {},
   "outputs": [],
   "source": [
    "base_dir = '/path/to/data'"
   ]
  },
  {
   "cell_type": "markdown",
   "metadata": {},
   "source": [
    "# Basline"
   ]
  },
  {
   "cell_type": "markdown",
   "metadata": {},
   "source": [
    "### sex"
   ]
  },
  {
   "cell_type": "code",
   "execution_count": null,
   "metadata": {},
   "outputs": [],
   "source": [
    "df = pd.read_table(\"{}/abcd_imgincl01.txt\".format(base_dir), skiprows=[1])\n",
    "print(df.shape)\n",
    "print(df.eventname.unique())"
   ]
  },
  {
   "cell_type": "code",
   "execution_count": null,
   "metadata": {},
   "outputs": [],
   "source": [
    "df_bsl = df[df['eventname']=='baseline_year_1_arm_1']\n",
    "df_bsl = df_bsl[['subjectkey','sex','eventname']]\n",
    "df_bsl = df_bsl.drop_duplicates()\n",
    "df_bsl = df_bsl.dropna(how='any')\n",
    "df_bsl = df_bsl.reset_index(drop=True)\n",
    "df_bsl"
   ]
  },
  {
   "cell_type": "code",
   "execution_count": null,
   "metadata": {},
   "outputs": [],
   "source": [
    "print(df_bsl.shape)\n",
    "print(len(df_bsl.subjectkey.unique()))"
   ]
  },
  {
   "cell_type": "code",
   "execution_count": null,
   "metadata": {},
   "outputs": [],
   "source": [
    "df_bsl['sex_num'] = [1 if s=='F' else 0 for s in df_bsl['sex']]\n",
    "df_bsl"
   ]
  },
  {
   "cell_type": "code",
   "execution_count": null,
   "metadata": {},
   "outputs": [],
   "source": [
    "df_bsl.to_csv(\"{}/outputs/sex.csv\".format(base_dir))"
   ]
  },
  {
   "cell_type": "markdown",
   "metadata": {},
   "source": [
    "### rs-fMRI Average correlation within canonical networks"
   ]
  },
  {
   "cell_type": "code",
   "execution_count": null,
   "metadata": {},
   "outputs": [],
   "source": [
    "df=pd.read_table('{}/abcd_betnet02.txt'.format(base_dir), skiprows=[1])\n",
    "print(df.shape)\n",
    "print(df.eventname.unique())"
   ]
  },
  {
   "cell_type": "code",
   "execution_count": null,
   "metadata": {},
   "outputs": [],
   "source": [
    "df_bsl = df[df['eventname']=='baseline_year_1_arm_1']\n",
    "print(df_bsl.shape)\n",
    "print(len(df_bsl.subjectkey.unique()))"
   ]
  },
  {
   "cell_type": "code",
   "execution_count": null,
   "metadata": {},
   "outputs": [],
   "source": [
    "df_bsl_out = pd.DataFrame(columns=['subjectkey','sex','rsfmri_dmn','rsfmri_sal','rsfmri_fp'])\n",
    "df_bsl_out"
   ]
  },
  {
   "cell_type": "code",
   "execution_count": null,
   "metadata": {},
   "outputs": [],
   "source": [
    "df_bsl['rsfmri_c_ngd_sa_ngd_sa'].max()"
   ]
  },
  {
   "cell_type": "code",
   "execution_count": null,
   "metadata": {},
   "outputs": [],
   "source": [
    "df_bsl_out['subjectkey']=df_bsl['subjectkey']\n",
    "df_bsl_out['rsfmri_dmn']=df_bsl['rsfmri_c_ngd_dt_ngd_dt']\n",
    "df_bsl_out['rsfmri_sal']=df_bsl['rsfmri_c_ngd_sa_ngd_sa']\n",
    "df_bsl_out['rsfmri_fp']=df_bsl['rsfmri_c_ngd_fo_ngd_fo']\n",
    "df_bsl_out['sex']=df_bsl['sex']\n",
    "df_bsl_out"
   ]
  },
  {
   "cell_type": "code",
   "execution_count": null,
   "metadata": {},
   "outputs": [],
   "source": [
    "with open('{}/outputs/lst_subjkey_include_rsfMRI_bsl.txt'.format(base_dir),'r') as f:\n",
    "    lst_inc = f.read().splitlines()"
   ]
  },
  {
   "cell_type": "code",
   "execution_count": null,
   "metadata": {},
   "outputs": [],
   "source": [
    "len(lst_inc)"
   ]
  },
  {
   "cell_type": "code",
   "execution_count": null,
   "metadata": {},
   "outputs": [],
   "source": [
    "df_bsl_out = df_bsl_out[df_bsl_out['subjectkey'].isin(lst_inc)]\n",
    "df_bsl_out"
   ]
  },
  {
   "cell_type": "code",
   "execution_count": null,
   "metadata": {},
   "outputs": [],
   "source": [
    "df_bsl_out['rsfmri_sal'].max()"
   ]
  },
  {
   "cell_type": "code",
   "execution_count": null,
   "metadata": {},
   "outputs": [],
   "source": [
    "df_bsl_out.to_csv(\"{}/outputs/rsfmri_bsl.csv\".format(base_dir))"
   ]
  },
  {
   "cell_type": "markdown",
   "metadata": {},
   "source": [
    "# Year 2"
   ]
  },
  {
   "cell_type": "markdown",
   "metadata": {},
   "source": [
    "### rs-fMRI Average correlation within canonical networks"
   ]
  },
  {
   "cell_type": "code",
   "execution_count": null,
   "metadata": {},
   "outputs": [],
   "source": [
    "df=pd.read_table('{}/abcd_betnet02.txt'.format(base_dir), skiprows=[1])\n",
    "print(df.shape)\n",
    "print(df.eventname.unique())"
   ]
  },
  {
   "cell_type": "code",
   "execution_count": null,
   "metadata": {},
   "outputs": [],
   "source": [
    "df_y2 = df[df['eventname']=='2_year_follow_up_y_arm_1']\n",
    "print(df_y2.shape)\n",
    "print(len(df_y2.subjectkey.unique()))"
   ]
  },
  {
   "cell_type": "code",
   "execution_count": null,
   "metadata": {},
   "outputs": [],
   "source": [
    "df_y2_out = pd.DataFrame(columns=['subjectkey','sex','rsfmri_dmn','rsfmri_sal','rsfmri_fp'])\n",
    "df_y2_out"
   ]
  },
  {
   "cell_type": "code",
   "execution_count": null,
   "metadata": {},
   "outputs": [],
   "source": [
    "df_y2['rsfmri_c_ngd_sa_ngd_sa'].max()"
   ]
  },
  {
   "cell_type": "code",
   "execution_count": null,
   "metadata": {},
   "outputs": [],
   "source": [
    "df_y2_out['subjectkey']=df_y2['subjectkey']\n",
    "df_y2_out['rsfmri_dmn']=df_y2['rsfmri_c_ngd_dt_ngd_dt']\n",
    "df_y2_out['rsfmri_sal']=df_y2['rsfmri_c_ngd_sa_ngd_sa']\n",
    "df_y2_out['rsfmri_fp']=df_y2['rsfmri_c_ngd_fo_ngd_fo']\n",
    "df_y2_out['sex']=df_y2['sex']\n",
    "df_y2_out"
   ]
  },
  {
   "cell_type": "code",
   "execution_count": null,
   "metadata": {},
   "outputs": [],
   "source": [
    "with open('{}/outputs/lst_subjkey_include_rsfMRI_y2.txt'.format(base_dir),'r') as f:\n",
    "    lst_inc = f.read().splitlines()"
   ]
  },
  {
   "cell_type": "code",
   "execution_count": null,
   "metadata": {},
   "outputs": [],
   "source": [
    "len(lst_inc)"
   ]
  },
  {
   "cell_type": "code",
   "execution_count": null,
   "metadata": {},
   "outputs": [],
   "source": [
    "df_y2_out = df_y2_out[df_y2_out['subjectkey'].isin(lst_inc)]\n",
    "df_y2_out"
   ]
  },
  {
   "cell_type": "code",
   "execution_count": null,
   "metadata": {},
   "outputs": [],
   "source": [
    "df_y2_out['rsfmri_sal'].max()"
   ]
  },
  {
   "cell_type": "code",
   "execution_count": null,
   "metadata": {},
   "outputs": [],
   "source": [
    "df_y2_out.to_csv(\"{}/outputs/rsfmri_y2.csv\".format(base_dir))"
   ]
  },
  {
   "cell_type": "code",
   "execution_count": null,
   "metadata": {},
   "outputs": [],
   "source": []
  }
 ],
 "metadata": {
  "kernelspec": {
   "display_name": "Python 3",
   "language": "python",
   "name": "python3"
  },
  "language_info": {
   "codemirror_mode": {
    "name": "ipython",
    "version": 3
   },
   "file_extension": ".py",
   "mimetype": "text/x-python",
   "name": "python",
   "nbconvert_exporter": "python",
   "pygments_lexer": "ipython3",
   "version": "3.8.1"
  }
 },
 "nbformat": 4,
 "nbformat_minor": 4
}
