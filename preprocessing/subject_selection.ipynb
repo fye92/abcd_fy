{
 "cells": [
  {
   "cell_type": "code",
   "execution_count": null,
   "metadata": {},
   "outputs": [],
   "source": [
    "import pandas as pd"
   ]
  },
  {
   "cell_type": "code",
   "execution_count": null,
   "metadata": {},
   "outputs": [],
   "source": [
    "base_dir = '/path/to/data'"
   ]
  },
  {
   "cell_type": "code",
   "execution_count": null,
   "metadata": {},
   "outputs": [],
   "source": [
    "df_inc=pd.read_table('{}/abcd_imgincl01.txt'.format(base_dir), skiprows=[1])\n",
    "print(df_inc.shape)\n",
    "print(df_inc.eventname.unique())"
   ]
  },
  {
   "cell_type": "code",
   "execution_count": null,
   "metadata": {},
   "outputs": [],
   "source": [
    "df_inc_bsl=df_inc[df_inc['eventname']=='baseline_year_1_arm_1']\n",
    "df_inc_y2=df_inc[df_inc['eventname']=='2_year_follow_up_y_arm_1']\n",
    "\n",
    "# sort\n",
    "df_inc_bsl=df_inc_bsl.sort_values(by=['subjectkey','interview_date'])\n",
    "df_inc_y2=df_inc_y2.sort_values(by=['subjectkey','interview_date'])"
   ]
  },
  {
   "cell_type": "code",
   "execution_count": null,
   "metadata": {},
   "outputs": [],
   "source": [
    "print(df_inc_bsl.shape)\n",
    "print(df_inc_y2.shape)\n",
    "print('Baseline unique ID: {}'.format(len(df_inc_bsl.subjectkey.unique())))\n",
    "print('Year2 unique ID: {}'.format(len(df_inc_y2.subjectkey.unique())))"
   ]
  },
  {
   "cell_type": "code",
   "execution_count": null,
   "metadata": {},
   "outputs": [],
   "source": [
    "df_inc_bsl.head()"
   ]
  },
  {
   "cell_type": "markdown",
   "metadata": {},
   "source": [
    "# Multiple entries per subject?\n",
    "Even within an event, a subject commonly has 2 or more entries about its inclusion recommendation. Why? Let's figure out."
   ]
  },
  {
   "cell_type": "markdown",
   "metadata": {},
   "source": [
    "## Baseline"
   ]
  },
  {
   "cell_type": "code",
   "execution_count": null,
   "metadata": {},
   "outputs": [],
   "source": [
    "l = []\n",
    "for subjid in df_inc_bsl.subjectkey.unique():\n",
    "    df_tmp = df_inc_bsl[df_inc_bsl['subjectkey']==subjid]\n",
    "    l.append(len(df_tmp))\n",
    "    if len(df_tmp) == 3:\n",
    "        print(subjid)"
   ]
  },
  {
   "cell_type": "code",
   "execution_count": null,
   "metadata": {},
   "outputs": [],
   "source": [
    "for num_entry in list(set(l)):\n",
    "    lst_tmp = [1 for x in l if x==num_entry]\n",
    "    print(\"{} subjects has {} entries.\".format(sum(lst_tmp),num_entry))\n",
    "\n",
    "print(\"Total number of entries: {}\".format(sum(l)))"
   ]
  },
  {
   "cell_type": "markdown",
   "metadata": {},
   "source": [
    "## Year 2"
   ]
  },
  {
   "cell_type": "code",
   "execution_count": null,
   "metadata": {},
   "outputs": [],
   "source": [
    "l = []\n",
    "for subjid in df_inc_y2.subjectkey.unique():\n",
    "    df_tmp = df_inc_y2[df_inc_y2['subjectkey']==subjid]\n",
    "    l.append(len(df_tmp))\n",
    "    if len(df_tmp) == 3:\n",
    "        print(subjid)"
   ]
  },
  {
   "cell_type": "code",
   "execution_count": null,
   "metadata": {},
   "outputs": [],
   "source": [
    "set(l)"
   ]
  },
  {
   "cell_type": "code",
   "execution_count": null,
   "metadata": {},
   "outputs": [],
   "source": [
    "for num_entry in list(set(l)):\n",
    "    lst_tmp = [1 for x in l if x==num_entry]\n",
    "    print(\"{} subjects has {} entries.\".format(sum(lst_tmp),num_entry))\n",
    "\n",
    "print(\"Total number of entries: {}\".format(sum(l)))"
   ]
  },
  {
   "cell_type": "markdown",
   "metadata": {},
   "source": [
    "# Make subject list for all task fMRI\n",
    "Include a subject only if it is recommended to include for MID, SST, and nBack, and for all entries. For example, if subject A has three entries of inclusion at baseline, you need to make sure all three entries are at 1 for all three tasks."
   ]
  },
  {
   "cell_type": "markdown",
   "metadata": {},
   "source": [
    "## Baseline"
   ]
  },
  {
   "cell_type": "code",
   "execution_count": null,
   "metadata": {},
   "outputs": [],
   "source": [
    "lst_bsl = []\n",
    "for subjid in df_inc_bsl.subjectkey.unique():\n",
    "    df_tmp = df_inc_bsl[df_inc_bsl['subjectkey']==subjid]\n",
    "    dup = df_tmp[['imgincl_mid_include','imgincl_nback_include','imgincl_sst_include']].duplicated().values.tolist()\n",
    "    if sum(dup) != len(dup)-1:\n",
    "        print(\"{} Rows are not identical?\".format(subjid))\n",
    "    any_zero = (df_tmp[['imgincl_mid_include','imgincl_nback_include','imgincl_sst_include']]==0).any(axis=None)\n",
    "    if any_zero == False:\n",
    "        lst_bsl.append(subjid)"
   ]
  },
  {
   "cell_type": "code",
   "execution_count": null,
   "metadata": {},
   "outputs": [],
   "source": [
    "len(lst_bsl)"
   ]
  },
  {
   "cell_type": "code",
   "execution_count": null,
   "metadata": {},
   "outputs": [],
   "source": [
    "with open('{}/outputs/lst_subjkey_include_bsl.txt'.format(base_dir),'w+') as f:\n",
    "    for subjid in lst_bsl:\n",
    "        f.write(\"{}\\n\".format(subjid))"
   ]
  },
  {
   "cell_type": "markdown",
   "metadata": {},
   "source": [
    "## Year 2"
   ]
  },
  {
   "cell_type": "code",
   "execution_count": null,
   "metadata": {},
   "outputs": [],
   "source": [
    "lst_y2 = []\n",
    "for subjid in df_inc_y2.subjectkey.unique():\n",
    "    df_tmp = df_inc_y2[df_inc_y2['subjectkey']==subjid]\n",
    "    dup = df_tmp[['imgincl_mid_include','imgincl_nback_include','imgincl_sst_include']].duplicated().values.tolist()\n",
    "    if sum(dup) != len(dup)-1:\n",
    "        print(\"{} Rows are not identical?\".format(subjid))\n",
    "    any_zero = (df_tmp[['imgincl_mid_include','imgincl_nback_include','imgincl_sst_include']]==0).any(axis=None)\n",
    "    if any_zero == False:\n",
    "        lst_y2.append(subjid)"
   ]
  },
  {
   "cell_type": "code",
   "execution_count": null,
   "metadata": {},
   "outputs": [],
   "source": [
    "len(lst_y2)"
   ]
  },
  {
   "cell_type": "code",
   "execution_count": null,
   "metadata": {},
   "outputs": [],
   "source": [
    "with open('{}/outputs/lst_subjkey_include_y2.txt'.format(base_dir),'w+') as f:\n",
    "    for subjid in lst_y2:\n",
    "        f.write(\"{}\\n\".format(subjid))"
   ]
  },
  {
   "cell_type": "markdown",
   "metadata": {},
   "source": [
    "# Check inconsistent duplicate rows"
   ]
  },
  {
   "cell_type": "code",
   "execution_count": null,
   "metadata": {},
   "outputs": [],
   "source": [
    "subjid='NDAR_INVJZ6BX4DY'\n",
    "df_tmp = df_inc_bsl[df_inc_bsl['subjectkey']==subjid]\n",
    "df_tmp"
   ]
  },
  {
   "cell_type": "code",
   "execution_count": null,
   "metadata": {},
   "outputs": [],
   "source": [
    "subjid='NDAR_INVZ2BXG0C8'\n",
    "df_tmp = df_inc_bsl[df_inc_bsl['subjectkey']==subjid]\n",
    "df_tmp"
   ]
  },
  {
   "cell_type": "markdown",
   "metadata": {},
   "source": [
    "# Make subject list for T1 and T2 MRI\n",
    "Include a subject only if it is recommended to include for T1 and T2, and for all entries. For example, if subject A has three entries of inclusion at baseline, you need to make sure all three entries are at 1 for all three tasks."
   ]
  },
  {
   "cell_type": "code",
   "execution_count": null,
   "metadata": {},
   "outputs": [],
   "source": [
    "sub_headers = ['imgincl_t1w_include','imgincl_t2w_include']"
   ]
  },
  {
   "cell_type": "markdown",
   "metadata": {},
   "source": [
    "## Baseline"
   ]
  },
  {
   "cell_type": "code",
   "execution_count": null,
   "metadata": {},
   "outputs": [],
   "source": [
    "lst_bsl = []\n",
    "for subjid in df_inc_bsl.subjectkey.unique():\n",
    "    df_tmp = df_inc_bsl[df_inc_bsl['subjectkey']==subjid]\n",
    "    dup = df_tmp[sub_headers].duplicated().values.tolist()\n",
    "    if sum(dup) != len(dup)-1:\n",
    "        print(\"{} Rows are not identical?\".format(subjid))\n",
    "    any_zero = (df_tmp[sub_headers]==0).any(axis=None)\n",
    "    if any_zero == False:\n",
    "        lst_bsl.append(subjid)"
   ]
  },
  {
   "cell_type": "code",
   "execution_count": null,
   "metadata": {},
   "outputs": [],
   "source": [
    "len(lst_bsl)"
   ]
  },
  {
   "cell_type": "code",
   "execution_count": null,
   "metadata": {},
   "outputs": [],
   "source": [
    "with open('{}/outputs/lst_subjkey_include_T1_and_T2_bsl.txt'.format(base_dir),'w+') as f:\n",
    "    for subjid in lst_bsl:\n",
    "        f.write(\"{}\\n\".format(subjid))"
   ]
  },
  {
   "cell_type": "markdown",
   "metadata": {},
   "source": [
    "## Year 2"
   ]
  },
  {
   "cell_type": "code",
   "execution_count": null,
   "metadata": {},
   "outputs": [],
   "source": [
    "lst_y2 = []\n",
    "for subjid in df_inc_y2.subjectkey.unique():\n",
    "    df_tmp = df_inc_y2[df_inc_y2['subjectkey']==subjid]\n",
    "    dup = df_tmp[sub_headers].duplicated().values.tolist()\n",
    "    if sum(dup) != len(dup)-1:\n",
    "        print(\"{} Rows are not identical?\".format(subjid))\n",
    "    any_zero = (df_tmp[sub_headers]==0).any(axis=None)\n",
    "    if any_zero == False:\n",
    "        lst_y2.append(subjid)"
   ]
  },
  {
   "cell_type": "code",
   "execution_count": null,
   "metadata": {},
   "outputs": [],
   "source": [
    "len(lst_y2)"
   ]
  },
  {
   "cell_type": "code",
   "execution_count": null,
   "metadata": {},
   "outputs": [],
   "source": [
    "with open('{}/outputs/lst_subjkey_include_T1_and_T2_y2.txt'.format(base_dir),'w+') as f:\n",
    "    for subjid in lst_y2:\n",
    "        f.write(\"{}\\n\".format(subjid))"
   ]
  },
  {
   "cell_type": "markdown",
   "metadata": {},
   "source": [
    "# Make subject list for rs-fMRI\n",
    "Include a subject only if it is recommended to include for rsfMRI, and for all entries. For example, if subject A has three entries of inclusion at baseline, you need to make sure all three entries are at 1."
   ]
  },
  {
   "cell_type": "code",
   "execution_count": null,
   "metadata": {},
   "outputs": [],
   "source": [
    "sub_headers = ['imgincl_rsfmri_include']"
   ]
  },
  {
   "cell_type": "markdown",
   "metadata": {},
   "source": [
    "## Baseline"
   ]
  },
  {
   "cell_type": "code",
   "execution_count": null,
   "metadata": {},
   "outputs": [],
   "source": [
    "lst_bsl = []\n",
    "for subjid in df_inc_bsl.subjectkey.unique():\n",
    "    df_tmp = df_inc_bsl[df_inc_bsl['subjectkey']==subjid]\n",
    "    dup = df_tmp[sub_headers].duplicated().values.tolist()\n",
    "    if sum(dup) != len(dup)-1:\n",
    "        print(\"{} Rows are not identical?\".format(subjid))\n",
    "    any_zero = (df_tmp[sub_headers]==0).any(axis=None)\n",
    "    if any_zero == False:\n",
    "        lst_bsl.append(subjid)"
   ]
  },
  {
   "cell_type": "code",
   "execution_count": null,
   "metadata": {},
   "outputs": [],
   "source": [
    "len(lst_bsl)"
   ]
  },
  {
   "cell_type": "code",
   "execution_count": null,
   "metadata": {},
   "outputs": [],
   "source": [
    "with open('{}/outputs/lst_subjkey_include_rsfMRI_bsl.txt'.format(base_dir),'w+') as f:\n",
    "    for subjid in lst_bsl:\n",
    "        f.write(\"{}\\n\".format(subjid))"
   ]
  },
  {
   "cell_type": "markdown",
   "metadata": {},
   "source": [
    "## Year 2"
   ]
  },
  {
   "cell_type": "code",
   "execution_count": null,
   "metadata": {},
   "outputs": [],
   "source": [
    "lst_y2 = []\n",
    "for subjid in df_inc_y2.subjectkey.unique():\n",
    "    df_tmp = df_inc_y2[df_inc_y2['subjectkey']==subjid]\n",
    "    dup = df_tmp[sub_headers].duplicated().values.tolist()\n",
    "    if sum(dup) != len(dup)-1:\n",
    "        print(\"{} Rows are not identical?\".format(subjid))\n",
    "    any_zero = (df_tmp[sub_headers]==0).any(axis=None)\n",
    "    if any_zero == False:\n",
    "        lst_y2.append(subjid)"
   ]
  },
  {
   "cell_type": "code",
   "execution_count": null,
   "metadata": {},
   "outputs": [],
   "source": [
    "len(lst_y2)"
   ]
  },
  {
   "cell_type": "code",
   "execution_count": null,
   "metadata": {},
   "outputs": [],
   "source": [
    "with open('{}/outputs/lst_subjkey_include_rsfMRI_y2.txt'.format(base_dir),'w+') as f:\n",
    "    for subjid in lst_y2:\n",
    "        f.write(\"{}\\n\".format(subjid))"
   ]
  },
  {
   "cell_type": "code",
   "execution_count": null,
   "metadata": {},
   "outputs": [],
   "source": []
  }
 ],
 "metadata": {
  "kernelspec": {
   "display_name": "Python 3",
   "language": "python",
   "name": "python3"
  },
  "language_info": {
   "codemirror_mode": {
    "name": "ipython",
    "version": 3
   },
   "file_extension": ".py",
   "mimetype": "text/x-python",
   "name": "python",
   "nbconvert_exporter": "python",
   "pygments_lexer": "ipython3",
   "version": "3.8.1"
  }
 },
 "nbformat": 4,
 "nbformat_minor": 4
}
