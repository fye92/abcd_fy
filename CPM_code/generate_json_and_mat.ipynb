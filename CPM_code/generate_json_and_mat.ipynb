{
 "cells": [
  {
   "cell_type": "code",
   "execution_count": null,
   "metadata": {},
   "outputs": [],
   "source": [
    "import numpy as np \n",
    "import scipy as sp\n",
    "import pandas as pd\n",
    "from datetime import datetime\n",
    "from utils import *\n",
    "\n",
    "import sys\n",
    "import os\n",
    "import json\n",
    "from sklearn.preprocessing import PowerTransformer\n",
    "import matplotlib.pyplot as plt"
   ]
  },
  {
   "cell_type": "code",
   "execution_count": null,
   "metadata": {},
   "outputs": [],
   "source": [
    "json_path = '/path/to/CPM_json'\n",
    "mat_path = '/path/to/CPM_mat'"
   ]
  },
  {
   "cell_type": "markdown",
   "metadata": {},
   "source": [
    "# Settings"
   ]
  },
  {
   "cell_type": "code",
   "execution_count": null,
   "metadata": {},
   "outputs": [],
   "source": [
    "t = 'bsl' # bsl or y2\n",
    "k = 10    # number of folds\n",
    "p_thresh = 0.05  # p threshold for significant edges\n",
    "repeat = 10  # number of iterations for true data\n",
    "num_iter = 0  # number of iterations for permutation tests\n",
    "behav_pc = 'rsfmri_sal' \n",
    "num_roi = 86\n",
    "num_contrasts = 8\n",
    "zscore=False # whether to z-score training edge strengths\n",
    "mode='linear' # ridge or linear\n",
    "y_norm='id' # id, yj, or norm\n",
    "\n",
    "beta_path = '/path/to/coactivation_matrices_{}_{}ROIs_rm_nBack'.format(t,num_roi)\n",
    "behav_path = '/path/to/data'\n",
    "out_path = '{}/{}fold_p_thresh_{}_repeat{}_iter{}_behav_{}_timepoint_{}_{}ROI_{}contrasts_rm_nBack_z{}_mode_{}_ynorm_{}.json'.format(json_path,k,p_thresh,repeat,num_iter,behav_pc,t,num_roi,num_contrasts, int(zscore), mode, y_norm)"
   ]
  },
  {
   "cell_type": "code",
   "execution_count": null,
   "metadata": {},
   "outputs": [],
   "source": [
    "out_path"
   ]
  },
  {
   "cell_type": "markdown",
   "metadata": {},
   "source": [
    "# Mat generation"
   ]
  },
  {
   "cell_type": "markdown",
   "metadata": {},
   "source": [
    "## read raw data"
   ]
  },
  {
   "cell_type": "code",
   "execution_count": null,
   "metadata": {},
   "outputs": [],
   "source": [
    "with open('{}/lst_usable_{}.txt'.format(beta_path,t),'r') as f:\n",
    "    lst_subjkey_img = f.read().splitlines()\n",
    "\n",
    "print(\"#subj to include based on task fMRI data inclusion criteria and NaN situation: {}\".format(len(lst_subjkey_img)))"
   ]
  },
  {
   "cell_type": "code",
   "execution_count": null,
   "metadata": {},
   "outputs": [],
   "source": [
    "lst_subjkey_img[:3]"
   ]
  },
  {
   "cell_type": "code",
   "execution_count": null,
   "metadata": {},
   "outputs": [],
   "source": [
    "df_behav = pd.read_csv(\"{}/upps_bsl.csv\".format(behav_path), index_col=0)\n",
    "df_behav"
   ]
  },
  {
   "cell_type": "code",
   "execution_count": null,
   "metadata": {},
   "outputs": [],
   "source": [
    "df_behav = df_behav[['src_subject_id','eventname',behav_pc]]\n",
    "df_behav = df_behav.dropna(how='any')\n",
    "df_behav = df_behav.reset_index(drop=True)\n",
    "df_behav['subjectkey'] = df_behav['src_subject_id']\n",
    "df_behav"
   ]
  },
  {
   "cell_type": "code",
   "execution_count": null,
   "metadata": {},
   "outputs": [],
   "source": [
    "lst_subjkey_behav = df_behav['subjectkey'].values.tolist()\n",
    "print(\"#subj have availability of behav data: {}\".format(len(lst_subjkey_behav)))"
   ]
  },
  {
   "cell_type": "code",
   "execution_count": null,
   "metadata": {},
   "outputs": [],
   "source": [
    "lst_subjkey_overlap = [x for x in lst_subjkey_img if x in lst_subjkey_behav]\n",
    "print(\"Final number of subjects: {}\".format(len(lst_subjkey_overlap)))"
   ]
  },
  {
   "cell_type": "code",
   "execution_count": null,
   "metadata": {},
   "outputs": [],
   "source": [
    "lst_mat = generate_file_list(beta_path, lst_subjkey_overlap, num_roi, num_contrasts, t)\n",
    "print(len(lst_mat))"
   ]
  },
  {
   "cell_type": "code",
   "execution_count": null,
   "metadata": {},
   "outputs": [],
   "source": [
    "lst_mat[:3]"
   ]
  },
  {
   "cell_type": "code",
   "execution_count": null,
   "metadata": {},
   "outputs": [],
   "source": [
    "X = read_mats(lst_mat)\n",
    "print(X.shape)"
   ]
  },
  {
   "cell_type": "code",
   "execution_count": null,
   "metadata": {},
   "outputs": [],
   "source": [
    "y = []\n",
    "#key='neurocog_{}.bl'.format(behav_pc)\n",
    "key=behav_pc\n",
    "for subj in lst_subjkey_overlap:\n",
    "    y.append(df_behav[df_behav['subjectkey']==subj][key].values[0])\n",
    "\n",
    "y=np.array(y)\n",
    "print(y.shape)"
   ]
  },
  {
   "cell_type": "code",
   "execution_count": null,
   "metadata": {},
   "outputs": [],
   "source": [
    "y"
   ]
  },
  {
   "cell_type": "code",
   "execution_count": null,
   "metadata": {},
   "outputs": [],
   "source": [
    "plt.hist(y,bins=20)\n",
    "plt.show()"
   ]
  },
  {
   "cell_type": "markdown",
   "metadata": {},
   "source": [
    "## Transform y"
   ]
  },
  {
   "cell_type": "code",
   "execution_count": null,
   "metadata": {},
   "outputs": [],
   "source": [
    "yn, transformer = y_transform(y, y_norm)"
   ]
  },
  {
   "cell_type": "code",
   "execution_count": null,
   "metadata": {},
   "outputs": [],
   "source": [
    "yn"
   ]
  },
  {
   "cell_type": "code",
   "execution_count": null,
   "metadata": {},
   "outputs": [],
   "source": [
    "plt.hist(yn,bins=20)\n",
    "plt.show()"
   ]
  },
  {
   "cell_type": "code",
   "execution_count": null,
   "metadata": {},
   "outputs": [],
   "source": [
    "import pickle\n",
    "filename = '{}/ymodel_{}_{}roi_{}contrast_ynorm_{}.pkl'.format(mat_path, behav_pc, num_roi, num_contrasts, y_norm)\n",
    "pickle.dump(transformer, open(filename, 'wb'))"
   ]
  },
  {
   "cell_type": "code",
   "execution_count": null,
   "metadata": {},
   "outputs": [],
   "source": [
    "transformer = pickle.load(open(filename, 'rb'))"
   ]
  },
  {
   "cell_type": "code",
   "execution_count": null,
   "metadata": {},
   "outputs": [],
   "source": [
    "transformer"
   ]
  },
  {
   "cell_type": "code",
   "execution_count": null,
   "metadata": {},
   "outputs": [],
   "source": [
    "np.min(yn)"
   ]
  },
  {
   "cell_type": "code",
   "execution_count": null,
   "metadata": {},
   "outputs": [],
   "source": [
    "np.max(yn)"
   ]
  },
  {
   "cell_type": "markdown",
   "metadata": {},
   "source": [
    "## Save mat"
   ]
  },
  {
   "cell_type": "code",
   "execution_count": null,
   "metadata": {},
   "outputs": [],
   "source": [
    "save_matlab_mat(mat_path, '{}_{}roi_{}contrast_ynorm_{}.mat'.format(behav_pc, num_roi, num_contrasts, y_norm), X,yn,lst_subjkey_overlap)"
   ]
  },
  {
   "cell_type": "code",
   "execution_count": null,
   "metadata": {},
   "outputs": [],
   "source": [
    "x, y, lst_subjectkey = read_matlab_mat(mat_path, '{}_{}roi_{}contrast_ynorm_{}.mat'.format(behav_pc, num_roi, num_contrasts, y_norm))"
   ]
  },
  {
   "cell_type": "code",
   "execution_count": null,
   "metadata": {},
   "outputs": [],
   "source": [
    "print(x.shape)\n",
    "print(y.shape)"
   ]
  },
  {
   "cell_type": "code",
   "execution_count": null,
   "metadata": {},
   "outputs": [],
   "source": [
    "y"
   ]
  },
  {
   "cell_type": "markdown",
   "metadata": {},
   "source": [
    "# Json generation"
   ]
  },
  {
   "cell_type": "code",
   "execution_count": null,
   "metadata": {},
   "outputs": [],
   "source": [
    "jdict = {\n",
    "  \"t\" : t,\n",
    "  \"k\" : k,\n",
    "  \"p_thresh\" : p_thresh,\n",
    "  \"repeat\" : repeat,\n",
    "  \"num_iter\" : num_iter,\n",
    "  \"mat_path\" : mat_path,\n",
    "  \"mat_name\" : '{}_{}roi_{}contrast_ynorm_{}.mat'.format(behav_pc, num_roi, num_contrasts, y_norm),\n",
    "  \"zscore\" : zscore,\n",
    "  \"mode\" : mode,\n",
    "  \"y_norm\" :y_norm,\n",
    "  \"base_dir\" : \"/Users/fengdanye/Documents/Yale_Research/ABCD/CPM_outputs\"\n",
    "}"
   ]
  },
  {
   "cell_type": "code",
   "execution_count": null,
   "metadata": {},
   "outputs": [],
   "source": [
    "out_path"
   ]
  },
  {
   "cell_type": "code",
   "execution_count": null,
   "metadata": {},
   "outputs": [],
   "source": [
    "with open(out_path, \"w\") as outfile: \n",
    "    json.dump(jdict, outfile)"
   ]
  },
  {
   "cell_type": "code",
   "execution_count": null,
   "metadata": {},
   "outputs": [],
   "source": [
    "with open(out_path) as json_data:\n",
    "    data = json.load(json_data)"
   ]
  },
  {
   "cell_type": "code",
   "execution_count": null,
   "metadata": {},
   "outputs": [],
   "source": [
    "data"
   ]
  },
  {
   "cell_type": "code",
   "execution_count": null,
   "metadata": {},
   "outputs": [],
   "source": [
    "data['mat_name'][:-4]"
   ]
  },
  {
   "cell_type": "code",
   "execution_count": null,
   "metadata": {},
   "outputs": [],
   "source": [
    "data['zscore']"
   ]
  },
  {
   "cell_type": "markdown",
   "metadata": {},
   "source": [
    "---\n",
    "---"
   ]
  }
 ],
 "metadata": {
  "kernelspec": {
   "display_name": "Python 3",
   "language": "python",
   "name": "python3"
  },
  "language_info": {
   "codemirror_mode": {
    "name": "ipython",
    "version": 3
   },
   "file_extension": ".py",
   "mimetype": "text/x-python",
   "name": "python",
   "nbconvert_exporter": "python",
   "pygments_lexer": "ipython3",
   "version": "3.8.1"
  }
 },
 "nbformat": 4,
 "nbformat_minor": 4
}
