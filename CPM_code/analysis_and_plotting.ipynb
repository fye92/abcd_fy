{
 "cells": [
  {
   "cell_type": "code",
   "execution_count": null,
   "metadata": {},
   "outputs": [],
   "source": [
    "import numpy as np \n",
    "import scipy as sp\n",
    "import pandas as pd\n",
    "from datetime import datetime\n",
    "from utils import *\n",
    "from cpm import *\n",
    "\n",
    "import sys\n",
    "import os\n",
    "import json\n",
    "\n",
    "import matplotlib.pyplot as plt\n",
    "from matplotlib import cm\n",
    "from pylab import *\n",
    "import glob\n",
    "from mpl_toolkits.axes_grid1 import make_axes_locatable\n",
    "from scipy import stats\n",
    "from matplotlib.patches import Patch\n",
    "from matplotlib.lines import Line2D\n",
    "rc('axes',linewidth=2)\n",
    "alpha=0.7"
   ]
  },
  {
   "cell_type": "code",
   "execution_count": null,
   "metadata": {},
   "outputs": [],
   "source": [
    "read_path = '/path/to/CPM_outputs/output_folder'\n",
    "json_path = '/path/to/CPM_json/settings.json'"
   ]
  },
  {
   "cell_type": "code",
   "execution_count": null,
   "metadata": {},
   "outputs": [],
   "source": [
    "with open(json_path) as json_data:\n",
    "    data = json.load(json_data)"
   ]
  },
  {
   "cell_type": "code",
   "execution_count": null,
   "metadata": {},
   "outputs": [],
   "source": [
    "t = data['t']\n",
    "k = data['k']\n",
    "p_thresh = data['p_thresh']\n",
    "repeat = data['repeat']\n",
    "num_iter = data['num_iter']\n",
    "mat_path = data['mat_path']\n",
    "mat_name = data['mat_name']  # should contains behav_name, num_rois, and num_contrasts\n",
    "zscore = data['zscore']\n",
    "mode = data['mode']\n",
    "y_norm = data['y_norm']"
   ]
  },
  {
   "cell_type": "code",
   "execution_count": null,
   "metadata": {},
   "outputs": [],
   "source": [
    "data"
   ]
  },
  {
   "cell_type": "code",
   "execution_count": null,
   "metadata": {},
   "outputs": [],
   "source": [
    "\"\"\"import pickle\n",
    "filename = '{}/ymodel_{}.pkl'.format(mat_path, mat_name[:-4])\n",
    "transformer = pickle.load(open(filename, 'rb'))\n",
    "\"\"\"\n",
    "transformer = FunctionTransformer()  # identity function\n",
    "i=1\n",
    "df_tmp = pd.read_csv('{}/y_prediction_iter{}.csv'.format(read_path,i))\n",
    "y_actual = df_tmp['y_actual'].to_numpy()\n",
    "transformer.fit(y_actual)\n",
    "print(y_actual.shape)\n",
    "\n",
    "y_actual = transformer.inverse_transform(y_actual.reshape(-1,1)).flatten()\n",
    "y_actual"
   ]
  },
  {
   "cell_type": "code",
   "execution_count": null,
   "metadata": {},
   "outputs": [],
   "source": [
    "transformer"
   ]
  },
  {
   "cell_type": "markdown",
   "metadata": {},
   "source": [
    "### Calculate r"
   ]
  },
  {
   "cell_type": "code",
   "execution_count": null,
   "metadata": {},
   "outputs": [],
   "source": [
    "lst_of_i = list(range(1, repeat+num_iter+1))"
   ]
  },
  {
   "cell_type": "code",
   "execution_count": null,
   "metadata": {},
   "outputs": [],
   "source": [
    "r_pos = []\n",
    "r_neg = []\n",
    "r_both = []\n",
    "for i in lst_of_i:\n",
    "    df_tmp = pd.read_csv('{}/y_prediction_iter{}.csv'.format(read_path,i))\n",
    "    y_actual = df_tmp['y_actual'].to_numpy()\n",
    "    y_actual = transformer.inverse_transform(y_actual.reshape(-1,1)).flatten()\n",
    "    y_pos = df_tmp['y_pred_pos'].to_numpy()\n",
    "    y_pos = transformer.inverse_transform(y_pos.reshape(-1,1)).flatten()\n",
    "    y_neg = df_tmp['y_pred_neg'].to_numpy()\n",
    "    y_neg = transformer.inverse_transform(y_neg.reshape(-1,1)).flatten()\n",
    "    y_both = df_tmp['y_pred_both'].to_numpy()\n",
    "    y_both = transformer.inverse_transform(y_both.reshape(-1,1)).flatten()\n",
    "    \n",
    "    r_pos.append(stats.spearmanr(y_pos, y_actual, nan_policy='propagate')[0])\n",
    "    r_neg.append(stats.spearmanr(y_neg, y_actual, nan_policy='propagate')[0])\n",
    "    r_both.append(stats.spearmanr(y_both, y_actual, nan_policy='propagate')[0])"
   ]
  },
  {
   "cell_type": "code",
   "execution_count": null,
   "metadata": {},
   "outputs": [],
   "source": [
    "r_pos_null = r_pos[repeat:]\n",
    "r_pos_true = r_pos[:repeat]\n",
    "r_neg_null = r_neg[repeat:]\n",
    "r_neg_true = r_neg[:repeat]\n",
    "r_both_null = r_both[repeat:]\n",
    "r_both_true = r_both[:repeat]"
   ]
  },
  {
   "cell_type": "code",
   "execution_count": null,
   "metadata": {},
   "outputs": [],
   "source": [
    "# save all rs\n",
    "with open('{}/r_pos.txt'.format(read_path),'w') as f:\n",
    "    for r in r_pos:\n",
    "        f.write('{}\\n'.format(r))\n",
    "\n",
    "with open('{}/r_neg.txt'.format(read_path),'w') as f:\n",
    "    for r in r_neg:\n",
    "        f.write('{}\\n'.format(r))\n",
    "\n",
    "with open('{}/r_both.txt'.format(read_path),'w') as f:\n",
    "    for r in r_both:\n",
    "        f.write('{}\\n'.format(r))"
   ]
  },
  {
   "cell_type": "code",
   "execution_count": null,
   "metadata": {},
   "outputs": [],
   "source": [
    "# save null model rs\n",
    "with open('{}/r_pos_null.txt'.format(read_path),'w') as f:\n",
    "    for r in r_pos_null:\n",
    "        f.write('{}\\n'.format(r))\n",
    "\n",
    "with open('{}/r_neg_null.txt'.format(read_path),'w') as f:\n",
    "    for r in r_neg_null:\n",
    "        f.write('{}\\n'.format(r))\n",
    "\n",
    "with open('{}/r_both_null.txt'.format(read_path),'w') as f:\n",
    "    for r in r_both_null:\n",
    "        f.write('{}\\n'.format(r))"
   ]
  },
  {
   "cell_type": "code",
   "execution_count": null,
   "metadata": {},
   "outputs": [],
   "source": [
    "# Check for NaN\n",
    "r_neg = np.array(r_neg)\n",
    "r_pos = np.array(r_pos)\n",
    "r_both = np.array(r_both)\n",
    "r_neg_true = np.array(r_neg_true)\n",
    "r_pos_true = np.array(r_pos_true)\n",
    "r_both_true = np.array(r_both_true)\n",
    "r_neg_null = np.array(r_neg_null)\n",
    "r_pos_null = np.array(r_pos_null)\n",
    "r_both_null = np.array(r_both_null)\n",
    "\n",
    "if np.isnan(r_neg).any():\n",
    "    print('r_neg contains NaNs.')\n",
    "    if np.isnan(r_neg_true).any():\n",
    "        print('WARNING: NaNs detected in true behavioral data iterations (neg).')\n",
    "\n",
    "if np.isnan(r_pos).any():\n",
    "    print('r_pos contains NaNs.')\n",
    "    if np.isnan(r_pos_true).any():\n",
    "        print('WARNING: NaNs detected in true behavioral data iterations (pos).')\n",
    "\n",
    "if np.isnan(r_both).any():\n",
    "    print('r_both contains NaNs.')\n",
    "    if np.isnan(r_both_true).any():\n",
    "        print('WARNING: NaNs detected in true behavioral data iterations (both).')\n",
    "\n",
    "print(\"Mean true correlation: pos {}, neg {}, both {}\".format(np.nanmean(r_pos_true),np.nanmean(r_neg_true),np.nanmean(r_both_true)))"
   ]
  },
  {
   "cell_type": "code",
   "execution_count": null,
   "metadata": {},
   "outputs": [],
   "source": [
    "r_neg_null = r_neg_null[~np.isnan(r_neg_null)]\n",
    "r_pos_null = r_pos_null[~np.isnan(r_pos_null)]\n",
    "r_both_null = r_both_null[~np.isnan(r_both_null)]\n",
    "\n",
    "print(\"Number of entries left in null model: pos {}, neg {}, both {}\".format(len(r_pos_null),len(r_neg_null),len(r_both_null)))"
   ]
  },
  {
   "cell_type": "code",
   "execution_count": null,
   "metadata": {},
   "outputs": [],
   "source": [
    "# One-tailed test\n",
    "if np.nanmean(r_pos_true) >= 0:\n",
    "    p_pos_onetail = np.sum(r_pos_null >= np.nanmean(r_pos_true))/len(r_pos_null)\n",
    "else:\n",
    "    print(\"WARNING: pos - correlation is not positive (this should not happen often)?\")\n",
    "    p_pos_onetail = np.sum(r_pos_null <= np.nanmean(r_pos_true))/len(r_pos_null)\n",
    "\n",
    "if np.nanmean(r_neg_true) >= 0:\n",
    "    p_neg_onetail = np.sum(r_neg_null >= np.nanmean(r_neg_true))/len(r_neg_null)\n",
    "else:\n",
    "    print(\"WARNING: neg - correlation is not positive (this should not happen often)?\")\n",
    "    p_neg_onetail = np.sum(r_neg_null <= np.nanmean(r_neg_true))/len(r_neg_null)\n",
    "#p_neg_onetail = np.nan\n",
    "\n",
    "if np.nanmean(r_both_true) >= 0:\n",
    "    p_both_onetail = np.sum(r_both_null >= np.nanmean(r_both_true))/len(r_both_null)\n",
    "else:\n",
    "    print(\"WARNING: both - correlation is not positive (this should not happen often)?\")\n",
    "    p_both_onetail = np.sum(r_both_null <= np.nanmean(r_both_true))/len(r_both_null)"
   ]
  },
  {
   "cell_type": "code",
   "execution_count": null,
   "metadata": {},
   "outputs": [],
   "source": [
    "# Two-tailed test\n",
    "r_pos_null_abs = np.abs(r_pos_null)\n",
    "p_pos_twotail = np.sum(r_pos_null_abs >= np.abs(np.nanmean(r_pos_true)))/len(r_pos_null_abs)\n",
    "\n",
    "r_neg_null_abs = np.abs(r_neg_null)\n",
    "p_neg_twotail = np.sum(r_neg_null_abs >= np.abs(np.nanmean(r_neg_true)))/len(r_neg_null_abs)\n",
    "#p_neg_twotail = np.nan\n",
    "\n",
    "r_both_null_abs = np.abs(r_both_null)\n",
    "p_both_twotail = np.sum(r_both_null_abs >= np.abs(np.nanmean(r_both_true)))/len(r_both_null_abs)"
   ]
  },
  {
   "cell_type": "code",
   "execution_count": null,
   "metadata": {},
   "outputs": [],
   "source": [
    "print(p_pos_onetail, p_neg_onetail, p_both_onetail)\n",
    "print(p_pos_twotail, p_neg_twotail, p_both_twotail)"
   ]
  },
  {
   "cell_type": "code",
   "execution_count": null,
   "metadata": {},
   "outputs": [],
   "source": [
    "df_p = pd.DataFrame(columns=['#iter available in null', 'True Spearman r (mean)','True Spearman r (std)', 'one-tail p','two-tail p'],index=['pos','neg','both'])\n",
    "df_p['#iter available in null'] = [len(r_pos_null),len(r_neg_null),len(r_both_null)]\n",
    "df_p['True Spearman r (mean)'] = [np.nanmean(r_pos_true),np.nanmean(r_neg_true),np.nanmean(r_both_true)]\n",
    "df_p['True Spearman r (std)'] = [np.nanstd(r_pos_true),np.nanstd(r_neg_true),np.nanstd(r_both_true)]\n",
    "df_p['one-tail p'] = [p_pos_onetail, p_neg_onetail, p_both_onetail]\n",
    "df_p['two-tail p'] = [p_pos_twotail, p_neg_twotail, p_both_twotail]"
   ]
  },
  {
   "cell_type": "code",
   "execution_count": null,
   "metadata": {},
   "outputs": [],
   "source": [
    "df_p"
   ]
  },
  {
   "cell_type": "code",
   "execution_count": null,
   "metadata": {},
   "outputs": [],
   "source": [
    "df_p.to_excel('{}/evaluation_with_perm.xlsx'.format(read_path))"
   ]
  },
  {
   "cell_type": "code",
   "execution_count": null,
   "metadata": {},
   "outputs": [],
   "source": [
    "np.nanmean(r_pos_true)"
   ]
  },
  {
   "cell_type": "code",
   "execution_count": null,
   "metadata": {},
   "outputs": [],
   "source": [
    "len(r_pos_null)"
   ]
  },
  {
   "cell_type": "markdown",
   "metadata": {},
   "source": [
    "### Plot boxplot"
   ]
  },
  {
   "cell_type": "code",
   "execution_count": null,
   "metadata": {},
   "outputs": [],
   "source": [
    "df = pd.read_excel('{}/evaluation_with_perm.xlsx'.format(read_path),index_col=0)\n",
    "df"
   ]
  },
  {
   "cell_type": "code",
   "execution_count": null,
   "metadata": {},
   "outputs": [],
   "source": [
    "with open('{}/r_pos.txt'.format(read_path),'r') as f:\n",
    "    r_pos = f.read().splitlines()\n",
    "\n",
    "with open('{}/r_neg.txt'.format(read_path),'r') as f:\n",
    "    r_neg = f.read().splitlines()\n",
    "\n",
    "with open('{}/r_both.txt'.format(read_path),'r') as f:\n",
    "    r_both = f.read().splitlines()\n",
    "\n",
    "r_pos = np.array(r_pos)\n",
    "r_neg = np.array(r_neg)\n",
    "r_both = np.array(r_both)\n",
    "r_pos = r_pos.astype(np.float)\n",
    "r_neg = r_neg.astype(np.float)\n",
    "r_both = r_both.astype(np.float)"
   ]
  },
  {
   "cell_type": "code",
   "execution_count": null,
   "metadata": {},
   "outputs": [],
   "source": [
    "df_r = pd.DataFrame(columns=['r_pos','r_neg','r_both'],index=range(1,repeat+num_iter+1))\n",
    "df_r['r_pos']=r_pos\n",
    "df_r['r_neg']=r_neg\n",
    "df_r['r_both']=r_both"
   ]
  },
  {
   "cell_type": "code",
   "execution_count": null,
   "metadata": {},
   "outputs": [],
   "source": [
    "df_r.to_excel('{}/df_r.xlsx'.format(read_path))"
   ]
  },
  {
   "cell_type": "code",
   "execution_count": null,
   "metadata": {},
   "outputs": [],
   "source": [
    "r_pos_null = r_pos[repeat:]\n",
    "r_pos_true = r_pos[:repeat]\n",
    "r_neg_null = r_neg[repeat:]\n",
    "r_neg_true = r_neg[:repeat]\n",
    "r_both_null = r_both[repeat:]\n",
    "r_both_true = r_both[:repeat]"
   ]
  },
  {
   "cell_type": "code",
   "execution_count": null,
   "metadata": {},
   "outputs": [],
   "source": [
    "len(r_pos_true)"
   ]
  },
  {
   "cell_type": "code",
   "execution_count": null,
   "metadata": {},
   "outputs": [],
   "source": [
    "if np.isnan(r_neg).any():\n",
    "    print('r_neg contains NaNs.')\n",
    "    if np.isnan(r_neg_true).any():\n",
    "        print('WARNING: NaNs detected in true behavioral data iterations (neg).')\n",
    "\n",
    "if np.isnan(r_pos).any():\n",
    "    print('r_pos contains NaNs.')\n",
    "    if np.isnan(r_pos_true).any():\n",
    "        print('WARNING: NaNs detected in true behavioral data iterations (pos).')\n",
    "\n",
    "if np.isnan(r_both).any():\n",
    "    print('r_both contains NaNs.')\n",
    "    if np.isnan(r_both_true).any():\n",
    "        print('WARNING: NaNs detected in true behavioral data iterations (both).')"
   ]
  },
  {
   "cell_type": "code",
   "execution_count": null,
   "metadata": {},
   "outputs": [],
   "source": [
    "r_neg_null = r_neg_null[~np.isnan(r_neg_null)]\n",
    "r_pos_null = r_pos_null[~np.isnan(r_pos_null)]\n",
    "r_both_null = r_both_null[~np.isnan(r_both_null)]\n",
    "\n",
    "r_neg_true = r_neg_true[~np.isnan(r_neg_true)]\n",
    "r_pos_true = r_pos_true[~np.isnan(r_pos_true)]\n",
    "r_both_true = r_both_true[~np.isnan(r_both_true)]\n",
    "\n",
    "print(\"Number of entries left in null model: pos {}, neg {}, both {}\".format(len(r_pos_null),len(r_neg_null),len(r_both_null)))\n",
    "print(\"Number of entries left in true model: pos {}, neg {}, both {}\".format(len(r_pos_true),len(r_neg_true),len(r_both_true)))"
   ]
  },
  {
   "cell_type": "code",
   "execution_count": null,
   "metadata": {},
   "outputs": [],
   "source": [
    "df"
   ]
  },
  {
   "cell_type": "code",
   "execution_count": null,
   "metadata": {},
   "outputs": [],
   "source": [
    "df_boxplot = pd.DataFrame(index=['pos','neg','both'],columns=['null model size','true model size','r mean','one-tail p mean','r median','one-tail p median'])\n",
    "df_boxplot['null model size'] = [len(r_pos_null),len(r_neg_null),len(r_both_null)]\n",
    "df_boxplot['true model size'] = [len(r_pos_true),len(r_neg_true),len(r_both_true)]\n",
    "df_boxplot['r mean'] = [np.mean(r_pos_true),np.mean(r_neg_true),np.mean(r_both_true)]\n",
    "df_boxplot['r median'] = [np.median(r_pos_true),np.median(r_neg_true),np.median(r_both_true)]\n",
    "df_boxplot"
   ]
  },
  {
   "cell_type": "code",
   "execution_count": null,
   "metadata": {},
   "outputs": [],
   "source": [
    "# One-tailed test\n",
    "if np.mean(r_pos_true) >= 0:\n",
    "    p_pos_onetail = np.sum(r_pos_null >= np.mean(r_pos_true))/len(r_pos_null)\n",
    "else:\n",
    "    print(\"WARNING: pos - correlation is not positive (this should not happen often)?\")\n",
    "    p_pos_onetail = np.sum(r_pos_null <= np.mean(r_pos_true))/len(r_pos_null)\n",
    "\n",
    "if np.mean(r_neg_true) >= 0:\n",
    "    p_neg_onetail = np.sum(r_neg_null >= np.mean(r_neg_true))/len(r_neg_null)\n",
    "else:\n",
    "    print(\"WARNING: neg - correlation is not positive (this should not happen often)?\")\n",
    "    p_neg_onetail = np.sum(r_neg_null <= np.mean(r_neg_true))/len(r_neg_null)\n",
    "#p_neg_onetail = np.nan\n",
    "\n",
    "if np.mean(r_both_true) >= 0:\n",
    "    p_both_onetail = np.sum(r_both_null >= np.mean(r_both_true))/len(r_both_null)\n",
    "else:\n",
    "    print(\"WARNING: both - correlation is not positive (this should not happen often)?\")\n",
    "    p_both_onetail = np.sum(r_both_null <= np.mean(r_both_true))/len(r_both_null)"
   ]
  },
  {
   "cell_type": "code",
   "execution_count": null,
   "metadata": {},
   "outputs": [],
   "source": [
    "df_boxplot['one-tail p mean'] = [p_pos_onetail, p_neg_onetail, p_both_onetail]\n",
    "df_boxplot"
   ]
  },
  {
   "cell_type": "code",
   "execution_count": null,
   "metadata": {},
   "outputs": [],
   "source": [
    "# One-tailed test\n",
    "if np.median(r_pos_true) >= 0:\n",
    "    p_pos_onetail = np.sum(r_pos_null >= np.median(r_pos_true))/len(r_pos_null)\n",
    "else:\n",
    "    print(\"WARNING: pos - correlation is not positive (this should not happen often)?\")\n",
    "    p_pos_onetail = np.sum(r_pos_null <= np.median(r_pos_true))/len(r_pos_null)\n",
    "\n",
    "if np.median(r_neg_true) >= 0:\n",
    "    p_neg_onetail = np.sum(r_neg_null >= np.median(r_neg_true))/len(r_neg_null)\n",
    "else:\n",
    "    print(\"WARNING: neg - correlation is not positive (this should not happen often)?\")\n",
    "    p_neg_onetail = np.sum(r_neg_null <= np.median(r_neg_true))/len(r_neg_null)\n",
    "#p_neg_onetail = np.nan\n",
    "\n",
    "if np.median(r_both_true) >= 0:\n",
    "    p_both_onetail = np.sum(r_both_null >= np.median(r_both_true))/len(r_both_null)\n",
    "else:\n",
    "    print(\"WARNING: both - correlation is not positive (this should not happen often)?\")\n",
    "    p_both_onetail = np.sum(r_both_null <= np.median(r_both_true))/len(r_both_null)"
   ]
  },
  {
   "cell_type": "code",
   "execution_count": null,
   "metadata": {},
   "outputs": [],
   "source": [
    "df_boxplot['one-tail p median'] = [p_pos_onetail, p_neg_onetail, p_both_onetail]\n",
    "df_boxplot"
   ]
  },
  {
   "cell_type": "code",
   "execution_count": null,
   "metadata": {},
   "outputs": [],
   "source": [
    "df_boxplot.to_excel('{}/df_boxplot.xlsx'.format(read_path))"
   ]
  },
  {
   "cell_type": "code",
   "execution_count": null,
   "metadata": {},
   "outputs": [],
   "source": [
    "all_data = [r_pos_true, r_neg_true, r_both_true]\n",
    "labels = ['pos', 'neg', 'both']\n",
    "lw=1.2\n",
    "boxprops = dict(linestyle='-', linewidth=lw)\n",
    "capprops = dict(linestyle='-', linewidth=lw)\n",
    "whiskerprops = dict(linestyle='-', linewidth=lw)\n",
    "medianprops = dict(linestyle='-', linewidth=lw, color='darkorange')\n",
    "meanprops = dict(marker='o',markerfacecolor='lightgrey', markersize=5,linestyle='-',markeredgecolor='black',lw=lw)\n",
    "\n",
    "fig, ax = plt.subplots(figsize=(8,4))\n",
    "bplot = ax.boxplot(all_data,vert=True,whis=(0,100),labels=labels, patch_artist=True, showmeans=True,\n",
    "                   boxprops=boxprops,capprops=capprops,whiskerprops=whiskerprops,medianprops=medianprops,meanprops=meanprops) \n",
    "# whiskers covers the whole range of the data\n",
    "# box extends from the lower to upper quartile values of the data, with a line at the median\n",
    "ax.set_title('Box plot of r_true',fontsize=16)\n",
    "plt.xticks(fontsize=16)\n",
    "plt.yticks(fontsize=14)\n",
    "# fill with colors\n",
    "colors = ['#91C4F2', '#8CA0D7', '#9D79BC', '']\n",
    "for patch, color in zip(bplot['boxes'], colors):\n",
    "    patch.set_facecolor(color)\n",
    "\n",
    "# adding horizontal grid lines\n",
    "ax.yaxis.grid(True)\n",
    "ax.set_ylabel('Spearman $\\it{rho}$',fontsize=16)\n",
    "    \n",
    "\n",
    "legend_elements = [Line2D([0], [0], color='darkorange', lw=lw, label='Median'),\n",
    "                   Line2D([0], [0], marker='o', color='white', markerfacecolor='lightgrey',label='Mean',markersize=5,linestyle='-',markeredgecolor='black',lw=lw),\n",
    "                   Patch(facecolor='lightgrey', edgecolor='black', lw=lw,\n",
    "                         label='lower to upper quartile'),\n",
    "                  Line2D([0], [0], color='black', lw=lw, label='Range',solid_capstyle='butt')]\n",
    "\n",
    "ax.legend(handles=legend_elements, loc='lower left')\n",
    "\n",
    "\n",
    "#plt.show()\n",
    "plt.savefig('{}/boxplot.png'.format(read_path),dpi=300,bbox_inches=\"tight\")"
   ]
  },
  {
   "cell_type": "code",
   "execution_count": null,
   "metadata": {},
   "outputs": [],
   "source": [
    "max(r_pos_true)"
   ]
  },
  {
   "cell_type": "code",
   "execution_count": null,
   "metadata": {},
   "outputs": [],
   "source": []
  }
 ],
 "metadata": {
  "kernelspec": {
   "display_name": "Python 3",
   "language": "python",
   "name": "python3"
  },
  "language_info": {
   "codemirror_mode": {
    "name": "ipython",
    "version": 3
   },
   "file_extension": ".py",
   "mimetype": "text/x-python",
   "name": "python",
   "nbconvert_exporter": "python",
   "pygments_lexer": "ipython3",
   "version": "3.8.1"
  }
 },
 "nbformat": 4,
 "nbformat_minor": 4
}
