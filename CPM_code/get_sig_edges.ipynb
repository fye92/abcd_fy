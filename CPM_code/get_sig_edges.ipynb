{
 "cells": [
  {
   "cell_type": "code",
   "execution_count": null,
   "metadata": {},
   "outputs": [],
   "source": [
    "import numpy as np\n",
    "import pandas as pd\n",
    "import json\n",
    "import matplotlib.pyplot as plt\n",
    "import glob\n",
    "from pylab import *\n",
    "rc('axes',linewidth=2)\n",
    "alpha=0.7\n",
    "import seaborn as sns"
   ]
  },
  {
   "cell_type": "code",
   "execution_count": null,
   "metadata": {},
   "outputs": [],
   "source": [
    "read_path = '/path/to/CPM_outputs/output_folder'\n",
    "json_path = '/path/to/CPM_json/settings.json'"
   ]
  },
  {
   "cell_type": "code",
   "execution_count": null,
   "metadata": {},
   "outputs": [],
   "source": [
    "with open(json_path) as json_data:\n",
    "    data = json.load(json_data)"
   ]
  },
  {
   "cell_type": "code",
   "execution_count": null,
   "metadata": {},
   "outputs": [],
   "source": [
    "t = data['t']\n",
    "k = data['k']\n",
    "p_thresh = data['p_thresh']\n",
    "repeat = data['repeat']\n",
    "num_iter = data['num_iter']\n",
    "mat_path = data['mat_path']\n",
    "mat_name = data['mat_name']  # should contains behav_name, num_rois, and num_contrasts\n",
    "zscore = data['zscore']\n",
    "mode = data['mode']\n",
    "y_norm = data['y_norm']"
   ]
  },
  {
   "cell_type": "code",
   "execution_count": null,
   "metadata": {},
   "outputs": [],
   "source": [
    "data"
   ]
  },
  {
   "cell_type": "markdown",
   "metadata": {},
   "source": [
    "# Positive edges"
   ]
  },
  {
   "cell_type": "code",
   "execution_count": null,
   "metadata": {},
   "outputs": [],
   "source": [
    "with open('/Users/fengdanye/Documents/Yale_Research/ABCD/ABCDStudyNDA_Release_3.0/outputs/lst_rois_APARC_ASEG_86ROIs.txt','r') as f:\n",
    "    lst_rois=f.read().splitlines()\n",
    "\n",
    "\"\"\"\n",
    "with open('/Users/fengdanye/Documents/Yale_Research/Cannabis_project/lst_nodes_orig.txt','r') as f:\n",
    "    lst_rois=f.read().splitlines()\n",
    "\"\"\""
   ]
  },
  {
   "cell_type": "code",
   "execution_count": null,
   "metadata": {},
   "outputs": [],
   "source": [
    "num_nodes=len(lst_rois)"
   ]
  },
  {
   "cell_type": "code",
   "execution_count": null,
   "metadata": {},
   "outputs": [],
   "source": [
    "num_nodes"
   ]
  },
  {
   "cell_type": "code",
   "execution_count": null,
   "metadata": {},
   "outputs": [],
   "source": [
    "thresh = 1.0"
   ]
  },
  {
   "cell_type": "code",
   "execution_count": null,
   "metadata": {},
   "outputs": [],
   "source": [
    "data=np.loadtxt('{}/network_pos_consensus.txt'.format(read_path))\n",
    "data.shape"
   ]
  },
  {
   "cell_type": "code",
   "execution_count": null,
   "metadata": {},
   "outputs": [],
   "source": [
    "fig, ax = plt.subplots(figsize=(5,5))\n",
    "img = ax.imshow(data, interpolation='nearest', cmap='Reds', alpha=alpha, vmin=0, vmax=1) \n",
    "plt.show()"
   ]
  },
  {
   "cell_type": "code",
   "execution_count": null,
   "metadata": {},
   "outputs": [],
   "source": [
    "data_thresh=(data>=thresh).astype(int)"
   ]
  },
  {
   "cell_type": "code",
   "execution_count": null,
   "metadata": {},
   "outputs": [],
   "source": [
    "fig, ax = plt.subplots(figsize=(5,5))\n",
    "img = ax.imshow(data_thresh, interpolation='nearest', cmap='Reds', alpha=alpha, vmin=0, vmax=1) \n",
    "plt.show()"
   ]
  },
  {
   "cell_type": "code",
   "execution_count": null,
   "metadata": {},
   "outputs": [],
   "source": [
    "# save to file\n",
    "np.savetxt('{}/net_pos_thresh_{}.txt'.format(read_path, thresh), data_thresh, fmt='%f')"
   ]
  },
  {
   "cell_type": "code",
   "execution_count": null,
   "metadata": {},
   "outputs": [],
   "source": [
    "iu = np.triu_indices(num_nodes, k=1)\n",
    "lst_sig_edges = []\n",
    "j=0\n",
    "for x,y in zip(iu[0],iu[1]):\n",
    "    j=j+1\n",
    "    if data_thresh[x,y] == 1:\n",
    "        lst_sig_edges.append((lst_rois[x],lst_rois[y]))\n",
    "        "
   ]
  },
  {
   "cell_type": "code",
   "execution_count": null,
   "metadata": {},
   "outputs": [],
   "source": [
    "print(j)\n",
    "print(len(lst_sig_edges))"
   ]
  },
  {
   "cell_type": "code",
   "execution_count": null,
   "metadata": {},
   "outputs": [],
   "source": [
    "np.sum(data_thresh)/2"
   ]
  },
  {
   "cell_type": "code",
   "execution_count": null,
   "metadata": {},
   "outputs": [],
   "source": [
    "with open('{}/sig_edges_pos_thresh{}.txt'.format(read_path,thresh),'w') as f:\n",
    "    for (a,b) in lst_sig_edges:\n",
    "        f.write('{}\\t{}\\n'.format(a,b))"
   ]
  },
  {
   "cell_type": "markdown",
   "metadata": {},
   "source": [
    "# Negative edges"
   ]
  },
  {
   "cell_type": "code",
   "execution_count": null,
   "metadata": {},
   "outputs": [],
   "source": [
    "thresh = 1.0"
   ]
  },
  {
   "cell_type": "code",
   "execution_count": null,
   "metadata": {},
   "outputs": [],
   "source": [
    "data=np.loadtxt('{}/network_neg_consensus.txt'.format(read_path))\n",
    "data.shape"
   ]
  },
  {
   "cell_type": "code",
   "execution_count": null,
   "metadata": {},
   "outputs": [],
   "source": [
    "fig, ax = plt.subplots(figsize=(5,5))\n",
    "img = ax.imshow(data, interpolation='nearest', cmap='Blues', alpha=alpha, vmin=0, vmax=1) \n",
    "plt.show()"
   ]
  },
  {
   "cell_type": "code",
   "execution_count": null,
   "metadata": {},
   "outputs": [],
   "source": [
    "data_thresh=(data>=thresh).astype(int)"
   ]
  },
  {
   "cell_type": "code",
   "execution_count": null,
   "metadata": {},
   "outputs": [],
   "source": [
    "fig, ax = plt.subplots(figsize=(5,5))\n",
    "img = ax.imshow(data_thresh, interpolation='nearest', cmap='Blues', alpha=alpha, vmin=0, vmax=1) \n",
    "plt.show()"
   ]
  },
  {
   "cell_type": "code",
   "execution_count": null,
   "metadata": {},
   "outputs": [],
   "source": [
    "# save to file\n",
    "np.savetxt('{}/net_neg_thresh_{}.txt'.format(read_path,thresh), data_thresh, fmt='%f')"
   ]
  },
  {
   "cell_type": "code",
   "execution_count": null,
   "metadata": {},
   "outputs": [],
   "source": [
    "iu = np.triu_indices(num_nodes, k=1)\n",
    "lst_sig_edges = []\n",
    "j=0\n",
    "for x,y in zip(iu[0],iu[1]):\n",
    "    j=j+1\n",
    "    if data_thresh[x,y] == 1:\n",
    "        lst_sig_edges.append((lst_rois[x],lst_rois[y]))\n",
    "        "
   ]
  },
  {
   "cell_type": "code",
   "execution_count": null,
   "metadata": {},
   "outputs": [],
   "source": [
    "print(j)\n",
    "print(len(lst_sig_edges))"
   ]
  },
  {
   "cell_type": "code",
   "execution_count": null,
   "metadata": {},
   "outputs": [],
   "source": [
    "np.sum(data_thresh)/2"
   ]
  },
  {
   "cell_type": "code",
   "execution_count": null,
   "metadata": {},
   "outputs": [],
   "source": [
    "with open('{}/sig_edges_neg_thresh{}.txt'.format(read_path,thresh),'w') as f:\n",
    "    for (a,b) in lst_sig_edges:\n",
    "        f.write('{}\\t{}\\n'.format(a,b))"
   ]
  },
  {
   "cell_type": "code",
   "execution_count": null,
   "metadata": {},
   "outputs": [],
   "source": []
  },
  {
   "cell_type": "markdown",
   "metadata": {},
   "source": [
    "# Rearrange matrix based on canonical networks\n",
    "Run organize_node_net.m and rearr_canonical_networks.m first."
   ]
  },
  {
   "cell_type": "code",
   "execution_count": null,
   "metadata": {},
   "outputs": [],
   "source": [
    "thresh=1.0"
   ]
  },
  {
   "cell_type": "code",
   "execution_count": null,
   "metadata": {},
   "outputs": [],
   "source": [
    "module_names = [f for f in glob.glob('{}/canonical_networks/module*_comp_realvalued.txt'.format(read_path)) if \"modules_comp\" not in f]\n",
    "module_names.sort(key=lambda f: int(''.join(filter(str.isdigit, f.split('/')[-1]))))"
   ]
  },
  {
   "cell_type": "code",
   "execution_count": null,
   "metadata": {},
   "outputs": [],
   "source": [
    "module_names"
   ]
  },
  {
   "cell_type": "code",
   "execution_count": null,
   "metadata": {},
   "outputs": [],
   "source": [
    "print(len(module_names))\n",
    "module_size = []\n",
    "for fn in module_names:\n",
    "    with open(fn, 'r') as f:\n",
    "        lst = f.read().splitlines()\n",
    "        module_size.append(len(lst))\n",
    "\n",
    "print(len(module_size))\n",
    "print(sum(module_size))"
   ]
  },
  {
   "cell_type": "code",
   "execution_count": null,
   "metadata": {},
   "outputs": [],
   "source": [
    "module_size"
   ]
  },
  {
   "cell_type": "code",
   "execution_count": null,
   "metadata": {},
   "outputs": [],
   "source": [
    "module_colors=['#2f4f4f', '#228b22', '#7f0000','#ffff00','#0000cd','#00ff00','#00ffff','#1e90ff','#ffe4b5']\n",
    "print(len(module_colors))"
   ]
  },
  {
   "cell_type": "code",
   "execution_count": null,
   "metadata": {},
   "outputs": [],
   "source": [
    "with open('{}/canonical_networks/modules_comp_realvalued.txt'.format(read_path), 'r') as f:\n",
    "    lst_rois=f.read().splitlines()\n",
    "\n",
    "print(len(lst_rois))"
   ]
  },
  {
   "cell_type": "code",
   "execution_count": null,
   "metadata": {},
   "outputs": [],
   "source": [
    "lst_nets = ['cerebellum', 'cingulate', 'frontal', 'insula', 'limbic', 'occipital', 'parietal', 'striatum', 'temporal']\n",
    "print(len(lst_nets))"
   ]
  },
  {
   "cell_type": "markdown",
   "metadata": {},
   "source": [
    "#### Positive"
   ]
  },
  {
   "cell_type": "code",
   "execution_count": null,
   "metadata": {},
   "outputs": [],
   "source": [
    "data = np.loadtxt('{}/canonical_networks/correlation_canonical_rearr_pos.txt'.format(read_path), delimiter=',')\n",
    "np.shape(data)"
   ]
  },
  {
   "cell_type": "code",
   "execution_count": null,
   "metadata": {},
   "outputs": [],
   "source": [
    "fig, ax = plt.subplots(figsize=(5,5))\n",
    "img = ax.imshow(data, interpolation='nearest', cmap='Reds', alpha=alpha, vmin=0, vmax=1) \n",
    "plt.show()"
   ]
  },
  {
   "cell_type": "code",
   "execution_count": null,
   "metadata": {},
   "outputs": [],
   "source": [
    "data_thresh=(data>=thresh).astype(int)\n",
    "fig, ax = plt.subplots(figsize=(5,5))\n",
    "img = ax.imshow(data_thresh, interpolation='nearest', cmap='Reds', alpha=alpha, vmin=0, vmax=1) \n",
    "plt.show()"
   ]
  },
  {
   "cell_type": "code",
   "execution_count": null,
   "metadata": {},
   "outputs": [],
   "source": [
    "df=pd.DataFrame(index=lst_nets,columns=lst_nets)\n",
    "df_ratio=pd.DataFrame(index=lst_nets,columns=lst_nets)\n",
    "df"
   ]
  },
  {
   "cell_type": "code",
   "execution_count": null,
   "metadata": {},
   "outputs": [],
   "source": [
    "for i in range(9):\n",
    "    s1=module_size[i]\n",
    "    l1=np.sum(module_size[:i]).astype(int)\n",
    "    h1=(l1+s1).astype(int)\n",
    "    net1=lst_nets[i]\n",
    "    for j in range(9):\n",
    "        s2=module_size[j]\n",
    "        l2=np.sum(module_size[:j]).astype(int)\n",
    "        h2=(l2+s2).astype(int)\n",
    "        net2=lst_nets[j]\n",
    "        print(\"({},{}): {}, {}. l1 {} - h1 {}. l2 {} - h2 {}.\".format(i,j,net1,net2,l1,h1,l2,h2))\n",
    "        num_edges = np.sum(data_thresh[l1:h1,l2:h2])\n",
    "        if i==j:\n",
    "            num_edges = num_edges/2\n",
    "            network_size = s1*(s1-1)/2\n",
    "        else:\n",
    "            network_size = s1*s2\n",
    "        df.loc[net1, net2]=num_edges\n",
    "        df_ratio.loc[net1,net2]=num_edges/float(network_size)"
   ]
  },
  {
   "cell_type": "code",
   "execution_count": null,
   "metadata": {},
   "outputs": [],
   "source": [
    "df=df.astype(float)\n",
    "df_ratio=df_ratio.astype(float)\n",
    "df"
   ]
  },
  {
   "cell_type": "code",
   "execution_count": null,
   "metadata": {},
   "outputs": [],
   "source": [
    "df_ratio"
   ]
  },
  {
   "cell_type": "code",
   "execution_count": null,
   "metadata": {},
   "outputs": [],
   "source": [
    "mask = np.triu(np.ones_like(df, dtype=bool),k=1)\n",
    "f, ax = plt.subplots(figsize=(6,6))\n",
    "hmp=sns.heatmap(df, mask=mask, cmap='Reds',annot=True,linewidths=.5,square=True,linecolor='white',cbar_kws={\"shrink\": 0.7},annot_kws={\"fontsize\":12},fmt='g')\n",
    "ax.set_yticklabels(lst_nets,fontsize=12)\n",
    "ax.set_xticklabels(lst_nets,fontsize=12)\n",
    "plt.savefig(\"{}/canonical_networks/network_pos_canonical_grid_plot_thresh{}.png\".format(read_path,thresh), format='png',bbox_inches=\"tight\",dpi=300)"
   ]
  },
  {
   "cell_type": "code",
   "execution_count": null,
   "metadata": {},
   "outputs": [],
   "source": [
    "mask = np.triu(np.ones_like(df_ratio, dtype=bool),k=1)\n",
    "f, ax = plt.subplots(figsize=(6,6))\n",
    "hmp=sns.heatmap(df_ratio, mask=mask, cmap='Reds',annot=True,linewidths=.5,square=True,linecolor='white',cbar_kws={\"shrink\": 0.7},annot_kws={\"fontsize\":10},fmt='.2f')\n",
    "ax.set_yticklabels(lst_nets,fontsize=12)\n",
    "ax.set_xticklabels(lst_nets,fontsize=12)\n",
    "plt.savefig(\"{}/canonical_networks/network_pos_canonical_grid_plot_thresh{}_ratio.png\".format(read_path,thresh), format='png',bbox_inches=\"tight\",dpi=300)"
   ]
  },
  {
   "cell_type": "markdown",
   "metadata": {},
   "source": [
    "#### Negative"
   ]
  },
  {
   "cell_type": "code",
   "execution_count": null,
   "metadata": {},
   "outputs": [],
   "source": [
    "data = np.loadtxt('{}/canonical_networks/correlation_canonical_rearr_neg.txt'.format(read_path), delimiter=',')\n",
    "np.shape(data)"
   ]
  },
  {
   "cell_type": "code",
   "execution_count": null,
   "metadata": {},
   "outputs": [],
   "source": [
    "fig, ax = plt.subplots(figsize=(5,5))\n",
    "img = ax.imshow(data, interpolation='nearest', cmap='Blues', alpha=alpha, vmin=0, vmax=1) \n",
    "plt.show()"
   ]
  },
  {
   "cell_type": "code",
   "execution_count": null,
   "metadata": {},
   "outputs": [],
   "source": [
    "data_thresh=(data>=thresh).astype(int)\n",
    "fig, ax = plt.subplots(figsize=(5,5))\n",
    "img = ax.imshow(data_thresh, interpolation='nearest', cmap='Blues', alpha=alpha, vmin=0, vmax=1) \n",
    "plt.show()"
   ]
  },
  {
   "cell_type": "code",
   "execution_count": null,
   "metadata": {},
   "outputs": [],
   "source": [
    "df=pd.DataFrame(index=lst_nets,columns=lst_nets)\n",
    "df_ratio=pd.DataFrame(index=lst_nets,columns=lst_nets)\n",
    "df"
   ]
  },
  {
   "cell_type": "code",
   "execution_count": null,
   "metadata": {},
   "outputs": [],
   "source": [
    "for i in range(9):\n",
    "    s1=module_size[i]\n",
    "    l1=np.sum(module_size[:i]).astype(int)\n",
    "    h1=(l1+s1).astype(int)\n",
    "    net1=lst_nets[i]\n",
    "    for j in range(9):\n",
    "        s2=module_size[j]\n",
    "        l2=np.sum(module_size[:j]).astype(int)\n",
    "        h2=(l2+s2).astype(int)\n",
    "        net2=lst_nets[j]\n",
    "        print(\"({},{}): {}, {}. l1 {} - h1 {}. l2 {} - h2 {}.\".format(i,j,net1,net2,l1,h1,l2,h2))\n",
    "        num_edges = np.sum(data_thresh[l1:h1,l2:h2])\n",
    "        if i==j:\n",
    "            num_edges = num_edges/2\n",
    "            network_size = s1*(s1-1)/2\n",
    "        else:\n",
    "            network_size = s1*s2\n",
    "        df.loc[net1, net2]=num_edges\n",
    "        df_ratio.loc[net1,net2]=num_edges/float(network_size)"
   ]
  },
  {
   "cell_type": "code",
   "execution_count": null,
   "metadata": {},
   "outputs": [],
   "source": [
    "df=df.astype(float)\n",
    "df_ratio=df_ratio.astype(float)\n",
    "df"
   ]
  },
  {
   "cell_type": "code",
   "execution_count": null,
   "metadata": {},
   "outputs": [],
   "source": [
    "df_ratio"
   ]
  },
  {
   "cell_type": "code",
   "execution_count": null,
   "metadata": {},
   "outputs": [],
   "source": [
    "mask = np.triu(np.ones_like(df, dtype=bool),k=1)\n",
    "f, ax = plt.subplots(figsize=(6,6))\n",
    "hmp=sns.heatmap(df, mask=mask, cmap='Blues',annot=True,linewidths=.5,square=True,linecolor='white',cbar_kws={\"shrink\": 0.7},annot_kws={\"fontsize\":12},fmt='g')\n",
    "ax.set_yticklabels(lst_nets,fontsize=12)\n",
    "ax.set_xticklabels(lst_nets,fontsize=12)\n",
    "plt.savefig(\"{}/canonical_networks/network_neg_canonical_grid_plot_thresh{}.png\".format(read_path,thresh), format='png',bbox_inches=\"tight\",dpi=300)"
   ]
  },
  {
   "cell_type": "code",
   "execution_count": null,
   "metadata": {},
   "outputs": [],
   "source": [
    "mask = np.triu(np.ones_like(df_ratio, dtype=bool),k=1)\n",
    "f, ax = plt.subplots(figsize=(6,6))\n",
    "hmp=sns.heatmap(df_ratio, mask=mask, cmap='Blues',annot=True,linewidths=.5,square=True,linecolor='white',cbar_kws={\"shrink\": 0.7},annot_kws={\"fontsize\":10},fmt='.2f')\n",
    "ax.set_yticklabels(lst_nets,fontsize=12)\n",
    "ax.set_xticklabels(lst_nets,fontsize=12)\n",
    "plt.savefig(\"{}/canonical_networks/network_neg_canonical_grid_plot_thresh{}_ratio.png\".format(read_path,thresh), format='png',bbox_inches=\"tight\",dpi=300)"
   ]
  },
  {
   "cell_type": "code",
   "execution_count": null,
   "metadata": {},
   "outputs": [],
   "source": []
  },
  {
   "cell_type": "code",
   "execution_count": null,
   "metadata": {},
   "outputs": [],
   "source": []
  }
 ],
 "metadata": {
  "kernelspec": {
   "display_name": "Python 3",
   "language": "python",
   "name": "python3"
  },
  "language_info": {
   "codemirror_mode": {
    "name": "ipython",
    "version": 3
   },
   "file_extension": ".py",
   "mimetype": "text/x-python",
   "name": "python",
   "nbconvert_exporter": "python",
   "pygments_lexer": "ipython3",
   "version": "3.8.1"
  }
 },
 "nbformat": 4,
 "nbformat_minor": 4
}
